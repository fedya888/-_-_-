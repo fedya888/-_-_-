{
  "nbformat": 4,
  "nbformat_minor": 0,
  "metadata": {
    "colab": {
      "provenance": [],
      "collapsed_sections": [
        "zxcFbmDHKCms",
        "ytqpU0Q2KV2A",
        "FWIIqKg6KZLe",
        "jFb0VSj0Kq0f",
        "0--hXld-M-C_",
        "nWIkHhw9LZKo",
        "ulRZmStrN_vo",
        "bygMUNfWMxmw"
      ]
    },
    "kernelspec": {
      "name": "python3",
      "display_name": "Python 3"
    },
    "language_info": {
      "name": "python"
    }
  },
  "cells": [
    {
      "cell_type": "markdown",
      "source": [
        "# **Часть I. API**"
      ],
      "metadata": {
        "id": "DsmXQeWqJKG0"
      }
    },
    {
      "cell_type": "markdown",
      "source": [
        "## **Задание 1. Собираем данные с помощью Requests**"
      ],
      "metadata": {
        "id": "5QVquF-aJetP"
      }
    },
    {
      "cell_type": "markdown",
      "source": [
        "С помощью методов API ВКонтакте получите список высших учебных заведений и названия их факультетов в городе Томск.\n",
        "Результат должен быть записан в файл JSON в следующем формате:"
      ],
      "metadata": {
        "id": "MgvkdXgsex5B"
      }
    },
    {
      "cell_type": "code",
      "execution_count": null,
      "metadata": {
        "id": "jUQjnKLTelrA"
      },
      "outputs": [],
      "source": [
        "\"result\": {\n",
        "  \"cities\": [\n",
        "    {\n",
        "        \"id\": <ID города>,\n",
        "        \"name\": <Название города>,\n",
        "        \"universites\": [\n",
        "            {\n",
        "              \"id\": <ID ВУЗа>,\n",
        "              \"name\": <Название ВУЗа>\n",
        "              \"faculties\": [<Название факультета>, …]\n",
        "            },\n",
        "            ...\n",
        "        ]\n",
        "    },\n",
        "  ]\n",
        "    ...\n",
        "}"
      ]
    },
    {
      "cell_type": "code",
      "source": [
        "import requests\n",
        "import json\n",
        "\n",
        "# Импортируем библиотеку Python requests.\n",
        "\n",
        "access_token = \"cbbffb86cbbffb86cbbffb8668c8a93aacccbbfcbbffb86ae32dbb548a003edee0302af\"\n",
        "method_1 = \"database.getCities\"\n",
        "url_1 = f\"https://api.vk.com/method/{method_1}\"\n",
        "\n",
        "\n",
        "# Создаем переменные и записываем туда ключ доступа (токен), url api куда будет произвоить запрос и нужный нам метод.\n",
        "\n",
        "params_1 = {\n",
        "    \"access_token\": access_token,\n",
        "    \"country_id\": 1,\n",
        "    \"q\": \"Томск\",\n",
        "    \"count\": 1,\n",
        "    \"v\": 5.199\n",
        "    }\n",
        "# Задаем параметры на поиск id города Томска\n",
        "\n",
        "res_1 = requests.get(url_1, params=params_1).json()\n",
        "\n",
        "# Проверяем результат. Необходимо res_1 закастить в .json(), так как к полученному методом get объекту НЕЛЬЗЯ ПРИМЕНИТЬ метод get.\n",
        "# .json() помещает ответ сервера (api) в список, а к нему уже можно применить метод.\n",
        "\n",
        "if res_1.get(\"response\"):\n",
        "  cities = []\n",
        "  items = res_1[\"response\"][\"items\"]\n",
        "  if items:\n",
        "    for item in items:\n",
        "      cities.append({\n",
        "          \"id\": item['id'],\n",
        "          \"name\": item['title']\n",
        "      })\n",
        "\n",
        "else:\n",
        "  error_message = res.get(\"error\")\n",
        "  print(f\"ERROR: {error_message}\")\n",
        "# Условный оператор с вложенным циклом на поиск id города, последующая запись данных в список при успешной установке связи и вывод ошибки в случае отсутствия связи."
      ],
      "metadata": {
        "id": "KRGFPq3KJocj"
      },
      "execution_count": null,
      "outputs": []
    },
    {
      "cell_type": "code",
      "source": [
        "access_token = \"cbbffb86cbbffb86cbbffb8668c8a93aacccbbfcbbffb86ae32dbb548a003edee0302af\"\n",
        "method_2 = \"database.getUniversities\"\n",
        "url_2 = f\"https://api.vk.com/method/{method_2}\"\n",
        "\n",
        "\n",
        "\n",
        "params_2 = {\n",
        "    \"access_token\": access_token,\n",
        "    \"country_id\": 1,\n",
        "    \"city_id\": 144,\n",
        "    \"v\": 5.199\n",
        "    }\n",
        "# Создаем второй get-запрос на поиск ВУЗ города Томска\n",
        "res_2 = requests.get(url_2, params=params_2).json()\n",
        "\n",
        "# Создаем условный оператор с вложенным циклом, который проверяет: если связь с сервером есть, то создается список, куда записываются id и title найденных по запросу ВУЗ с помощью цикла. Иначе выдает ошибку.\n",
        "if res_2.get(\"response\"):\n",
        "  universities = []\n",
        "  items = res_2[\"response\"][\"items\"]\n",
        "  if items:\n",
        "    for item in items:\n",
        "      universities.append({\n",
        "          \"id\": item['id'],\n",
        "          \"name\": item['title']\n",
        "      })\n",
        "\n",
        "else:\n",
        "  error_message = res.get(\"error\")\n",
        "  print(f\"ERROR: {error_message}\")\n"
      ],
      "metadata": {
        "colab": {
          "base_uri": "https://localhost:8080/"
        },
        "id": "p4obSy0LeeQN",
        "outputId": "3429ab41-3359-414f-d08a-b2611a651745"
      },
      "execution_count": null,
      "outputs": [
        {
          "output_type": "stream",
          "name": "stdout",
          "text": [
            "[{'id': 848, 'name': 'СибГМУ (ТМИ)'}, {'id': 849, 'name': 'ТГАСУ\\r\\n'}, {'id': 850, 'name': 'ТГПУ\\r\\n'}, {'id': 851, 'name': 'ТГУ'}, {'id': 852, 'name': 'ТУСУР (бывш. ТАСУР, ТИАСУР)'}, {'id': 853, 'name': 'ТПУ'}, {'id': 2403, 'name': 'ТВМИ'}, {'id': 6255, 'name': 'Филиал РГСУ'}, {'id': 13415, 'name': 'ТЭЮИ'}, {'id': 18292, 'name': 'ТИ Академии ВЭГУ'}, {'id': 20715, 'name': 'ЗСФ РГУП (бывш. ЗСФ РАП)'}, {'id': 23599, 'name': 'ЗСФ РГУИТП'}, {'id': 35214, 'name': 'ТФ СГА'}, {'id': 66758, 'name': 'ТИБ'}, {'id': 75690, 'name': 'ТФ МГГУ им. Шолохова'}, {'id': 118714, 'name': 'ТФ РАНХиГС (бывш. СибАГС ТФ)'}, {'id': 118715, 'name': 'ТФ НГАВТ'}, {'id': 169809, 'name': 'ТВВКУС'}, {'id': 170028, 'name': 'ТСХИ (ф) НГАУ'}, {'id': 245701, 'name': 'ТДС'}, {'id': 401125, 'name': 'ИФПМ СО РАН'}, {'id': 461553, 'name': 'ТИИТ'}, {'id': 499318, 'name': 'Томский ИПКР ФСИН России (бывш. ТФ Кузбасский институт ФСИН)'}, {'id': 573625, 'name': 'ИМКЭС СО РАН'}, {'id': 888642, 'name': 'ИСЭ СО РАН'}, {'id': 1167989, 'name': 'ИХН СО РАН'}, {'id': 1169980, 'name': 'НИИ фармакологии СО РАМН'}, {'id': 1172216, 'name': 'НИИМГ СО РАМН'}, {'id': 1174741, 'name': 'НИИ кардиологии СО РАМН'}, {'id': 1176194, 'name': 'ИОА СО РАН'}, {'id': 1188059, 'name': 'НИИЯФ при ТПУ'}, {'id': 1192309, 'name': 'НИИ психического здоровья Томского НИМЦ'}]\n"
          ]
        }
      ]
    },
    {
      "cell_type": "code",
      "source": [
        "access_token = \"cbbffb86cbbffb86cbbffb8668c8a93aacccbbfcbbffb86ae32dbb548a003edee0302af\"\n",
        "method_3 =\"database.getFaculties\"\n",
        "url_3 = f\"https://api.vk.com/method/{method_3}\"\n",
        "\n",
        "uni_id = []\n",
        "for i in universities:\n",
        "  uni_id.append(i[\"id\"])\n",
        "# создаем список, куда помещаем id университетов, полученные ранее.\n",
        "\n",
        "for i in uni_id:\n",
        "    res_3 = requests.get(url_3,params={\"access_token\": access_token,\"university_id\": i,\"v\": 5.199}).json()\n",
        "# Для каждого значения в списке id университетов производим get-запрос на получение факультетов.\n",
        "# В api vk методе на получение факультетов можно вводить только одно id университета. Отсюда и необходимость цикла.\n",
        "    if res_3.get(\"response\") and res_3['response']['count'] != 0:\n",
        "      faculties_1 = []\n",
        "      items = res_3[\"response\"][\"items\"]\n",
        "# Условный цикл на ответ сервера и обработку пустых значений. Также создаем список факультетов.\n",
        "      if items:\n",
        "        for item in items:\n",
        "          faculties_1.append({\n",
        "\n",
        "            \"name\": item['title']\n",
        "          })\n",
        "          faculties += faculties_1\n",
        "      print(faculties)\n",
        "    else:\n",
        "      error_message = res_3.get(\"error\")\n",
        "      print(f\"ERROR: {error_message}\")\n",
        "\n",
        "# Третий get-запрос на получение факультетов по найденным и записанным в список id ВУЗ.\n"
      ],
      "metadata": {
        "id": "DU3NrJTeoeIj",
        "colab": {
          "base_uri": "https://localhost:8080/"
        },
        "outputId": "76694d50-cb38-4fe0-c3c4-ed88753704a3"
      },
      "execution_count": null,
      "outputs": [
        {
          "output_type": "stream",
          "name": "stdout",
          "text": [
            "[{'name': 'Лечебный факультет'}, {'name': 'Педиатрический факультет'}, {'name': 'Фармацевтический факультет'}, {'name': 'Факультет клинической психологии, психотерапии и социальной работы'}, {'name': 'Факультет управления и экономики в здравоохранении'}, {'name': 'Медико-биологический факультет'}, {'name': 'Факультет высшего сестринского образования'}, {'name': 'Факультет поведенческой медицины и менеджмента'}, {'name': 'Факультет повышения квалификации и профессиональной переподготовки специалистов'}, {'name': 'Отдел ординатуры'}, {'name': 'Институт интегративного здравоохранения'}]\n",
            "[{'name': 'Механико-технологический факультет'}, {'name': 'Архитектурный факультет'}, {'name': 'Инженерно-экологический факультет'}, {'name': 'Институт кадастра, экономики и инженерных систем в строительстве'}, {'name': 'Дорожно-строительный факультет'}, {'name': 'Общеобразовательный факультет'}, {'name': 'Строительный факультет'}, {'name': 'Институт независимых экспертиз и исследований'}, {'name': 'Институт дистанционного образования (Институт заочного и дистанционного обучения)'}, {'name': 'Институт непрерывного образования'}]\n",
            "[{'name': 'Историко-филологический факультет'}, {'name': 'Факультет экономики и управления'}, {'name': 'Факультет психологии (Институт психологии и педагогики)'}, {'name': 'Педагогический факультет (Институт психологии и педагогики)'}, {'name': 'Факультет иностранных языков'}, {'name': 'Физико-математический факультет'}, {'name': 'Институт физической культуры и спорта'}, {'name': 'Биолого-химический факультет'}, {'name': 'Факультет технологии и предпринимательства'}, {'name': 'Факультет психологии, связей с общественностью и рекламы'}, {'name': 'Факультет культуры и искусств (Институт детства и артпедагогики)'}, {'name': 'Институт прикладной информатики'}, {'name': 'Факультет повышения квалификации и переподготовки кадров'}, {'name': 'Факультет дошкольного и начального образования (Институт детства и артпедагогики)'}, {'name': 'Факультет психологии и специального образования'}, {'name': 'Институт культуры'}, {'name': 'Филологический факультет'}, {'name': 'Историко-географический факультет'}, {'name': 'Психолого-педагогический факультет'}, {'name': 'Институт иностранных языков и международного сотрудничества'}, {'name': 'Институт развития педагогического образования'}, {'name': 'Институт детства'}, {'name': 'Психологический факультет'}, {'name': 'Естественный факультет'}, {'name': 'Факультет начальных классов'}, {'name': 'Исторический факультет'}, {'name': 'Технолого-экономический факультет'}]\n",
            "[{'name': 'Факультет журналистики'}, {'name': 'Механико-математический факультет'}, {'name': 'Исторический факультет'}, {'name': 'Международный факультет управления'}, {'name': 'Химический факультет'}, {'name': 'Физико-технический факультет'}, {'name': 'Юридический институт'}, {'name': 'Факультет физической культуры'}, {'name': 'Философский факультет'}, {'name': 'Факультет информатики'}, {'name': 'Экономический факультет'}, {'name': 'Филологический факультет'}, {'name': 'Институт искусств и культуры'}, {'name': 'Институт биологии, экологии, почвоведения, сельского и лесного хозяйства (Биологический институт)'}, {'name': 'Факультет психологии'}, {'name': 'Факультет иностранных языков'}, {'name': 'Геолого-географический факультет'}, {'name': 'Физический факультет'}, {'name': 'Радиофизический факультет'}, {'name': 'Факультет прикладной математики и кибернетики'}, {'name': 'Факультет инновационных технологий'}, {'name': 'Институт военного образования'}, {'name': 'Научно-исследовательский институт прикладной математики и механики'}, {'name': 'Высшая школа бизнеса'}, {'name': 'Междисциплинарные программы'}, {'name': 'Институт экономики и менеджмента'}, {'name': 'Институт прикладной математики и компьютерных наук'}, {'name': 'Факультет исторических и политических наук'}, {'name': 'Институт биомедицины'}, {'name': 'Высшая IT-Школа'}, {'name': 'Институт образования'}]\n",
            "[{'name': 'Факультет вычислительных систем'}, {'name': 'Заочный и вечерний факультет'}, {'name': 'Радиоконструкторский факультет'}, {'name': 'Факультет систем управления'}, {'name': 'Радиотехнический факультет'}, {'name': 'Экономический факультет'}, {'name': 'Гуманитарный факультет'}, {'name': 'Факультет электронной техники'}, {'name': 'Факультет дистанционного обучения'}, {'name': 'Институт дополнительного образования (Факультет повышения квалификации)'}, {'name': 'Высший колледж информатики, электроники и менеджмента'}, {'name': 'Факультет инновационных технологий'}, {'name': 'Юридический факультет'}, {'name': 'Факультет безопасности'}]\n",
            "[{'name': 'Институт международного образования и языковой коммуникации'}, {'name': 'Инженерная школа ядерных технологий'}, {'name': 'Теплоэнергетический факультет'}, {'name': 'Факультет автоматики и вычислительной техники'}, {'name': 'Электрофизический факультет'}, {'name': 'Инженерно-экономический факультет'}, {'name': 'Химико-технологический факультет'}, {'name': 'Гуманитарный факультет'}, {'name': 'Электротехнический институт (ЭЛТИ)'}, {'name': 'Машиностроительный факультет'}, {'name': 'Институт электронного обучения'}, {'name': 'Инженерная школа энергетики'}, {'name': 'Инженерная школа природных ресурсов'}, {'name': 'Инженерная школа новых производственных технологий'}, {'name': 'Инженерная школа информационных технологий и робототехники'}, {'name': ' Инженерная школа неразрушающего контроля и безопасности'}, {'name': 'Школа инженерного предпринимательства (Институт инженерного предпринимательства)'}, {'name': 'Институт развития стратегического партнерства и компетенций'}, {'name': 'Исследовательская школа физики высокоэнергетических процессов'}, {'name': 'Исследовательская школа химических и биомедицинских технологий'}, {'name': 'Институт природных ресурсов'}, {'name': 'Институт геологии и нефтегазового дела'}, {'name': 'Институт кибернетики'}, {'name': 'Энергетический институт'}, {'name': 'Физико-технический институт'}, {'name': 'Факультет естественных наук и математики'}, {'name': 'Институт неразрушающего контроля'}, {'name': 'Институт физики высоких технологий'}, {'name': 'Институт социально-гуманитарных технологий'}, {'name': 'Школа базовой инженерной подготовки'}, {'name': 'Центр цифровых образовательных технологий'}, {'name': 'Факультет физической культуры'}, {'name': 'Бизнес-школа'}]\n",
            "[{'name': 'Лечебное дело'}, {'name': 'Фармация'}]\n",
            "[{'name': 'Связи с общественностью'}, {'name': 'Реклама'}, {'name': 'Социальная работа'}, {'name': 'Менеджмент'}, {'name': 'Конфликтология'}]\n",
            "[{'name': 'Коммерция'}, {'name': 'Юриспруденция'}]\n",
            "[{'name': 'Факультет педагогики и психологии'}, {'name': 'Финансово-экономический факультет'}, {'name': 'Юридический факультет'}]\n",
            "[{'name': 'Факультет подготовки специалистов для судебной системы (Юридический факультет)'}, {'name': 'Факультет повышения квалификации и переподготовки судей, государственных гражданских служащих судов и Судебного департамента (ФПК судей и госслужащих судов)'}]\n",
            "[{'name': 'Управление инновациями'}, {'name': 'Прикладная информатика'}, {'name': 'Менеджмент качества'}, {'name': 'Управление качеством'}]\n",
            "[{'name': 'Менеджмент'}, {'name': 'Юриспруденция'}, {'name': 'Психология'}, {'name': 'Экономика'}, {'name': 'Информатика и вычислительная техника'}, {'name': 'Лингвистика'}]\n",
            "[{'name': 'Факультет дизайна'}, {'name': 'Экономический факультет'}, {'name': 'Гуманитарный факультет'}]\n",
            "[{'name': 'Экономический факультет'}, {'name': 'Психологический факультет'}]\n",
            "[{'name': 'Юриспруденция'}, {'name': 'Государственное и муниципальное управление'}, {'name': 'Экономика'}]\n",
            "[{'name': 'Кораблестроение и океанотехника'}, {'name': 'Организация перевозок и управление на транспорте'}, {'name': 'Организация перевозок и управление на транспорте (по видам)'}, {'name': 'Судовождение'}, {'name': 'Судовые энергетические установки'}, {'name': 'Техническая эксплуатация судов и судового оборудования'}, {'name': 'Экономика и управление на предприятии (по отраслям)'}, {'name': 'Эксплуатация водного транспорта и транспортного оборудования'}, {'name': 'Электропривод и автоматика промышленных установок и технологических комплексов'}]\n",
            "ERROR: None\n",
            "[{'name': 'Агротехнологический факультет (бывш. Агроинженерный, Ветеринарной медицины)'}, {'name': 'Экономико-юридический факультет'}, {'name': 'Факультет заочного обучения'}, {'name': 'Кафедра экономики и права'}, {'name': 'Кафедра ветеринарии'}, {'name': 'Кафедра агроинженерии'}, {'name': 'Кафедра агрономии и технологии производства и переработки сельскохозяйственной продукции'}, {'name': 'Кафедра охотоведения и зоотехнии'}]\n",
            "[{'name': 'Подготовка служителей и религиозного персонала религиозных организаций'}, {'name': 'Теология'}]\n",
            "[{'name': 'Аспирантура'}]\n",
            "ERROR: None\n",
            "[{'name': 'Кафедра исполнения наказаний, не связанных с лишением свободы и правового обеспечения деятельности уголовно-исполнительной систем'}, {'name': 'Кафедра организации исполнения наказаний'}, {'name': 'Кафедра организации оперативно-розыскной деятельности'}, {'name': 'Кафедра служебно-боевой и тактико-специальной подготовки'}, {'name': 'Кафедра организации социальной, психологической и воспитательной работы'}]\n",
            "[{'name': 'Аспирантура'}]\n",
            "[{'name': 'Отдел импульсной техники'}, {'name': 'Отдел высоких плотностей энергии'}, {'name': 'Отдел физической электроники'}, {'name': 'Аспирантура'}]\n",
            "[{'name': 'Аспирантура'}]\n",
            "[{'name': 'Отдел фармакологии'}, {'name': 'Отдел онкофармакологии'}, {'name': 'Отдел лекарственной токсикологии'}, {'name': 'Отдел патофизиологии и экспериментальной терапии'}, {'name': 'Отдел клинической фармакологии'}, {'name': 'Отдел иммунофармакологии'}, {'name': 'Отдел патофизиологии и регенеративной медицины'}, {'name': 'Отдел персонализированной медицины'}, {'name': 'Отдел экспериментальных биологических моделей'}, {'name': 'Аспирантура'}, {'name': 'Ординатура'}]\n",
            "[{'name': 'Кафедра медицинской генетики'}, {'name': 'Аспирантура'}, {'name': 'Ординатура'}]\n",
            "[{'name': 'Аспирантура'}, {'name': 'Ординатура'}]\n",
            "[{'name': 'Аспирантура'}]\n",
            "ERROR: None\n",
            "[{'name': 'Психиатрия'}, {'name': 'Наркология'}]\n"
          ]
        }
      ]
    },
    {
      "cell_type": "code",
      "source": [
        "result = {}\n",
        "\n",
        "\n",
        "\n",
        "\n"
      ],
      "metadata": {
        "id": "_aNKllXR9IsW"
      },
      "execution_count": null,
      "outputs": []
    },
    {
      "cell_type": "markdown",
      "source": [
        "### **Возможный алгоритм решения задачи:**"
      ],
      "metadata": {
        "id": "zxcFbmDHKCms"
      }
    },
    {
      "cell_type": "markdown",
      "source": [
        "1.   Получаем токен доступа к API Вконтакте\n",
        "2.   Настраиваем подключение к API Вконтакте  и устанавливаем базовые параметры (токен и версия) GET запроса\n",
        "\n",
        "---\n",
        "\n",
        "3. Следуя методу из документации для получения городов и используя библиотеку requests, составляем запрос на получение информации о городе \"Томск\" и получаем его id и название из ответа на запрос\n",
        "\n",
        "---\n",
        "4. Следуя методу из документации для получения университетов и используя библиотеку requests, составляем запрос на получение информации о университетах города \"Томск\" (по найденному id) и получаем список университетов\n",
        "5. Из полученного списка университетов получаем id и название каждого\n",
        "6. Список id и названия университетов записываем в словарь с информацией о найденном городе под ключем 'universites'\n",
        "---\n",
        "\n",
        "7. Находим метод получения факультетов университета в документации API Вконтакте\n",
        "8. Через цикл по каждому id университета, составляем запрос на получение информации о факультете университета (по найденному id) и получаем список названий факультетов\n",
        "9. В этом же цикле записываем под ключем 'faculties' полученный список\n",
        "---\n",
        "10. Создаем финальный словарь с ключем 'result', значение которого будет еще один словарь 'cities' со значением созданного нами словаря с информацией о городе-университетах-факультетах\n",
        "11. Записываем наш словарь в  файл с форматом JSON\n",
        "\n",
        "\n",
        "\n"
      ],
      "metadata": {
        "id": "1DiivPHK833t"
      }
    },
    {
      "cell_type": "markdown",
      "source": [
        "## **Задание 2. Библиотека VK API**"
      ],
      "metadata": {
        "id": "XslJSFkAe5-5"
      }
    },
    {
      "cell_type": "markdown",
      "source": [
        "Напишите код, который получает список названия школ города Кемерово с помощью библиотеки vk_api и записывает результаты в файл JSON."
      ],
      "metadata": {
        "id": "Fv1R9qMftlt9"
      }
    },
    {
      "cell_type": "code",
      "source": [
        "# id Кемерово - 64\n",
        "\n",
        "import vk_api\n",
        "import requests\n",
        "import json\n",
        "# Импортируем нужные библиотеки\n",
        "\n",
        "access_token = \"cbbffb86cbbffb86cbbffb8668c8a93aacccbbfcbbffb86ae32dbb548a003edee0302af\"\n",
        "method = \"database.getSchools\"\n",
        "url = f\"https://api.vk.com/method/{method}\"\n",
        "# Сохраняем в отдельные переменные токен доступа VK API, метод и URL.\n",
        "\n",
        "res_1 = requests.get(url,params={\"access_token\": access_token,\"city_id\": 64,\"v\": 5.199}).json()\n",
        "\n",
        "if res_1.get(\"response\"):\n",
        "  schools = []\n",
        "  items = res_1[\"response\"][\"items\"]\n",
        "  if items:\n",
        "    for item in items:\n",
        "      schools.append({\n",
        "          \"name\": item['title']\n",
        "      })\n",
        "      with open (\"task_2.json\", \"w\") as f:\n",
        "        result = {\"school_list\": schools}\n",
        "        json.dump(result, f)\n",
        "else:\n",
        "  error_message = res.get(\"error\")\n",
        "  print(f\"ERROR: {error_message}\")\n",
        "# Делаем запрос в VK API на получение списка школ в городе Кемерово. Праметров немного, поэтому сразу в запросе их прописываем.\n",
        "# Условный оператор на успешный ответ сервера в отдельный список сохраняет названия школ г. Кемерово. Если ответа нет, то выводится ошибка.\n",
        "# Внутри цикла на запись в список названий школ прописываем запись полученных данных в .json.\n"
      ],
      "metadata": {
        "id": "AK2dch3xtnpM"
      },
      "execution_count": null,
      "outputs": []
    },
    {
      "cell_type": "markdown",
      "source": [
        "### **Возможный алгоритм решения задачи:**"
      ],
      "metadata": {
        "id": "ytqpU0Q2KV2A"
      }
    },
    {
      "cell_type": "markdown",
      "source": [
        "1.   Получаем токен доступа к API Вконтакте\n",
        "2.   Инициализируем сессию библиотеки VK_API с помощью токена доступа\n",
        "3. Получаем доступ с помощью VK_API к API вконтакте методом get_api\n",
        "\n",
        "4. Следуя методу из документации для получения городов и используя библиотеку VK_API, составляем запрос на получение информации о городе \"Кемерово\" и получаем его id из ответа на запрос\n",
        "\n",
        "5. Следуя методу из документации для получения школ и используя библиотеку VK_API, составляем запрос на получение информации о ШКОЛАХ города \"Кемерово\" (по найденному id) и получаем список названия школ\n",
        "\n",
        "10. Конкретный формат не указан, поэтому создаем JSON с удобными ключами.<br>Например: result: {schools: [...]}\n",
        "\n",
        "11. Записываем созданный  словарик  в файл с форматом JSON\n",
        "\n",
        "\n",
        "\n"
      ],
      "metadata": {
        "id": "oYJIXxVOBmHk"
      }
    },
    {
      "cell_type": "markdown",
      "source": [
        "## **Задание 3. Запись данных в CSV формат**"
      ],
      "metadata": {
        "id": "N1UzGf1CtVfa"
      }
    },
    {
      "cell_type": "markdown",
      "source": [
        "С помощью методов API «ВКонтакте» получите 1000 подписчиков группы «Лентач», отсортировать по дате регистрации. *Подсказка: Вам нужно отстортироать подписчиков по **дате регистрации ВКонтакте**, а не дате вступления в сообщество!*\n",
        "\n",
        "Вам необходимо собрать следующие данные в CSV файл: **пол, название город, семейное положение** (ФИО партнера не указывать)."
      ],
      "metadata": {
        "id": "Rg-gNSTzfA7R"
      }
    },
    {
      "cell_type": "code",
      "source": [
        "!pip install vk_api\n",
        "# Устанавливаем библиотеку VK API"
      ],
      "metadata": {
        "colab": {
          "base_uri": "https://localhost:8080/"
        },
        "id": "D03inRNLP3V7",
        "outputId": "8486359d-f246-4b4f-9d50-b13e1b32bfcf"
      },
      "execution_count": null,
      "outputs": [
        {
          "output_type": "stream",
          "name": "stdout",
          "text": [
            "Requirement already satisfied: vk_api in /usr/local/lib/python3.10/dist-packages (11.9.9)\n",
            "Requirement already satisfied: requests in /usr/local/lib/python3.10/dist-packages (from vk_api) (2.31.0)\n",
            "Requirement already satisfied: charset-normalizer<4,>=2 in /usr/local/lib/python3.10/dist-packages (from requests->vk_api) (3.3.2)\n",
            "Requirement already satisfied: idna<4,>=2.5 in /usr/local/lib/python3.10/dist-packages (from requests->vk_api) (3.6)\n",
            "Requirement already satisfied: urllib3<3,>=1.21.1 in /usr/local/lib/python3.10/dist-packages (from requests->vk_api) (2.0.7)\n",
            "Requirement already satisfied: certifi>=2017.4.17 in /usr/local/lib/python3.10/dist-packages (from requests->vk_api) (2023.11.17)\n"
          ]
        }
      ]
    },
    {
      "cell_type": "code",
      "source": [
        "import requests\n",
        "import vk_api\n",
        "import json\n",
        "import csv\n",
        "# Импортируем нужные библиотеки\n",
        "\n",
        "access_token = \"cbbffb86cbbffb86cbbffb8668c8a93aacccbbfcbbffb86ae32dbb548a003edee0302af\"\n",
        "vk_session = vk_api.VkApi(token=access_token)\n",
        "vk  = vk_session.get_api()\n",
        "# Сохраняем в отдельную переменную токен доступа, а также инициализируем сессию VK API и получаем к ней доступ.\n",
        "\n",
        "id_lentach = vk.groups.getById(group_id = \"lentach\", v = 5.199 )['groups'][0][\"id\"]\n",
        "# Получаем с помощью метода groups.getById id сообщества 'Лентач' - 29534144\n",
        "\n",
        "members_1000 = vk.groups.getMembers(group_id=id_lentach, count=1000, fields=\"city,relation,sex\", v=5.199)['items']\n",
        "# С помощью метода groups.getMembers получаем информацию о 1000 пользователях сообщества \"Лентач\"\n",
        "# Сортировку по дате регистрации я не нашел. Сортировка по дате вступления в сообщество возможна только при вызове от модератора сообщества.\n",
        "\n",
        "result = []\n",
        "# Создаем пустой список, куда будем записывать город, статус и пол.\n",
        "\n",
        "for item in members_1000:\n",
        "  city_name = item.get('city')\n",
        "  relation = item.get('relation', 'not_stated')\n",
        "  sex = item['sex']\n",
        "# Циклом проходим по нужным ключам. Для ключа СП при пустом значении будет выводится not_stated (не указано)\n",
        "\n",
        "  if sex == 1:\n",
        "    sex = 'female'\n",
        "  elif sex == 2:\n",
        "    sex = 'male'\n",
        "  else:\n",
        "    sex = 'not_stated'\n",
        "\n",
        "# Условный оператор для словесного обозначения пола. API возвращает цифры, но удобнее читать.\n",
        "  result.append({\n",
        "      'city': city_name,\n",
        "      'relation': relation,\n",
        "      'sex': sex\n",
        "  })\n",
        "# Помещаем все полученные значени в список result. Я НЕ СМОГ ДОСТАТЬ КЛЮЧ 'title' ЗНАЧЕНИЯ 'city'.\n",
        "\n",
        "with open('task_3.csv', 'w') as f:\n",
        "  writer = csv.DictWriter(f, fieldnames=result[0].keys())\n",
        "  writer.writeheader()\n",
        "  for d in result:\n",
        "    writer.writerow(d)\n",
        "# Полученный список result сохраняем в виде .csv файла."
      ],
      "metadata": {
        "id": "JV0rNy91JvVj"
      },
      "execution_count": null,
      "outputs": []
    },
    {
      "cell_type": "code",
      "source": [
        "members_1000 = vk.groups.getMembers(group_id=id_lentach, count=1000, fields=\"city,relation,sex\", v=5.199)['items']\n",
        "result = []\n",
        "for item in members_1000:\n",
        "  city_name = item.get('city')\n",
        "  result.append({\n",
        "      'city': city_name\n",
        "       })\n",
        "print(result)"
      ],
      "metadata": {
        "colab": {
          "base_uri": "https://localhost:8080/"
        },
        "id": "7LZQE1OH60vz",
        "outputId": "6a567b25-c0b0-47d5-b7c2-e8bb6455abfc"
      },
      "execution_count": null,
      "outputs": [
        {
          "output_type": "stream",
          "name": "stdout",
          "text": [
            "[{'city': {'id': 1, 'title': 'Moscow'}}, {'city': {'id': 2, 'title': 'Saint Petersburg'}}, {'city': {'id': 2, 'title': 'Saint Petersburg'}}, {'city': None}, {'city': {'id': 2, 'title': 'Saint Petersburg'}}, {'city': {'id': 2, 'title': 'Saint Petersburg'}}, {'city': {'id': 2, 'title': 'Saint Petersburg'}}, {'city': None}, {'city': None}, {'city': {'id': 2, 'title': 'Saint Petersburg'}}, {'city': {'id': 12, 'title': 'Pushkin'}}, {'city': {'id': 1, 'title': 'Moscow'}}, {'city': {'id': 2, 'title': 'Saint Petersburg'}}, {'city': {'id': 2, 'title': 'Saint Petersburg'}}, {'city': None}, {'city': {'id': 2, 'title': 'Saint Petersburg'}}, {'city': {'id': 60, 'title': 'Kazan'}}, {'city': None}, {'city': {'id': 2, 'title': 'Saint Petersburg'}}, {'city': {'id': 2, 'title': 'Saint Petersburg'}}, {'city': {'id': 1951986, 'title': 'München'}}, {'city': {'id': 2, 'title': 'Saint Petersburg'}}, {'city': {'id': 964, 'title': 'Novomoskovsk'}}, {'city': {'id': 2204899, 'title': 'İstanbul'}}, {'city': {'id': 1, 'title': 'Moscow'}}, {'city': {'id': 2, 'title': 'Saint Petersburg'}}, {'city': None}, {'city': {'id': 2, 'title': 'Saint Petersburg'}}, {'city': None}, {'city': {'id': 2, 'title': 'Saint Petersburg'}}, {'city': {'id': 2, 'title': 'Saint Petersburg'}}, {'city': None}, {'city': None}, {'city': None}, {'city': {'id': 2, 'title': 'Saint Petersburg'}}, {'city': {'id': 2, 'title': 'Saint Petersburg'}}, {'city': {'id': 2, 'title': 'Saint Petersburg'}}, {'city': {'id': 2, 'title': 'Saint Petersburg'}}, {'city': {'id': 2, 'title': 'Saint Petersburg'}}, {'city': {'id': 1, 'title': 'Moscow'}}, {'city': {'id': 2, 'title': 'Saint Petersburg'}}, {'city': {'id': 2, 'title': 'Saint Petersburg'}}, {'city': None}, {'city': {'id': 2, 'title': 'Saint Petersburg'}}, {'city': None}, {'city': {'id': 8, 'title': 'Cherepovets'}}, {'city': {'id': 2, 'title': 'Saint Petersburg'}}, {'city': {'id': 1, 'title': 'Moscow'}}, {'city': None}, {'city': {'id': 458, 'title': 'Berlin'}}, {'city': {'id': 95, 'title': 'Nizhny Novgorod'}}, {'city': {'id': 1, 'title': 'Moscow'}}, {'city': {'id': 1, 'title': 'Moscow'}}, {'city': {'id': 2, 'title': 'Saint Petersburg'}}, {'city': {'id': 1, 'title': 'Moscow'}}, {'city': {'id': 2, 'title': 'Saint Petersburg'}}, {'city': {'id': 2, 'title': 'Saint Petersburg'}}, {'city': {'id': 1, 'title': 'Moscow'}}, {'city': {'id': 2, 'title': 'Saint Petersburg'}}, {'city': {'id': 1, 'title': 'Moscow'}}, {'city': {'id': 1, 'title': 'Moscow'}}, {'city': {'id': 2, 'title': 'Saint Petersburg'}}, {'city': {'id': 2, 'title': 'Saint Petersburg'}}, {'city': {'id': 2, 'title': 'Saint Petersburg'}}, {'city': {'id': 219, 'title': 'Frankfurt am Main'}}, {'city': None}, {'city': {'id': 56, 'title': 'Izhevsk'}}, {'city': {'id': 2, 'title': 'Saint Petersburg'}}, {'city': {'id': 2, 'title': 'Saint Petersburg'}}, {'city': {'id': 1, 'title': 'Moscow'}}, {'city': None}, {'city': {'id': 122, 'title': 'Ryazan'}}, {'city': {'id': 72, 'title': 'Krasnodar'}}, {'city': {'id': 99, 'title': 'Novosibirsk'}}, {'city': None}, {'city': {'id': 2, 'title': 'Saint Petersburg'}}, {'city': {'id': 1, 'title': 'Moscow'}}, {'city': {'id': 2, 'title': 'Saint Petersburg'}}, {'city': {'id': 2, 'title': 'Saint Petersburg'}}, {'city': {'id': 2, 'title': 'Saint Petersburg'}}, {'city': {'id': 2, 'title': 'Saint Petersburg'}}, {'city': {'id': 72, 'title': 'Krasnodar'}}, {'city': {'id': 2, 'title': 'Saint Petersburg'}}, {'city': {'id': 2, 'title': 'Saint Petersburg'}}, {'city': None}, {'city': None}, {'city': None}, {'city': {'id': 2, 'title': 'Saint Petersburg'}}, {'city': {'id': 1, 'title': 'Moscow'}}, {'city': {'id': 1, 'title': 'Moscow'}}, {'city': {'id': 1, 'title': 'Moscow'}}, {'city': {'id': 2, 'title': 'Saint Petersburg'}}, {'city': {'id': 2, 'title': 'Saint Petersburg'}}, {'city': {'id': 1, 'title': 'Moscow'}}, {'city': {'id': 2, 'title': 'Saint Petersburg'}}, {'city': None}, {'city': None}, {'city': {'id': 1, 'title': 'Moscow'}}, {'city': None}, {'city': {'id': 2, 'title': 'Saint Petersburg'}}, {'city': {'id': 1803186, 'title': 'Jõhvi'}}, {'city': {'id': 2, 'title': 'Saint Petersburg'}}, {'city': {'id': 2, 'title': 'Saint Petersburg'}}, {'city': {'id': 2, 'title': 'Saint Petersburg'}}, {'city': {'id': 2, 'title': 'Saint Petersburg'}}, {'city': {'id': 2, 'title': 'Saint Petersburg'}}, {'city': {'id': 2, 'title': 'Saint Petersburg'}}, {'city': {'id': 1, 'title': 'Moscow'}}, {'city': {'id': 2, 'title': 'Saint Petersburg'}}, {'city': {'id': 2, 'title': 'Saint Petersburg'}}, {'city': None}, {'city': {'id': 2, 'title': 'Saint Petersburg'}}, {'city': {'id': 260, 'title': 'Zelenogorsk'}}, {'city': {'id': 458, 'title': 'Berlin'}}, {'city': {'id': 2, 'title': 'Saint Petersburg'}}, {'city': {'id': 2, 'title': 'Saint Petersburg'}}, {'city': {'id': 2, 'title': 'Saint Petersburg'}}, {'city': None}, {'city': {'id': 1, 'title': 'Moscow'}}, {'city': {'id': 1, 'title': 'Moscow'}}, {'city': {'id': 2, 'title': 'Saint Petersburg'}}, {'city': {'id': 2, 'title': 'Saint Petersburg'}}, {'city': {'id': 2, 'title': 'Saint Petersburg'}}, {'city': None}, {'city': {'id': 2, 'title': 'Saint Petersburg'}}, {'city': {'id': 2, 'title': 'Saint Petersburg'}}, {'city': None}, {'city': {'id': 2, 'title': 'Saint Petersburg'}}, {'city': {'id': 2, 'title': 'Saint Petersburg'}}, {'city': {'id': 2, 'title': 'Saint Petersburg'}}, {'city': None}, {'city': {'id': 2, 'title': 'Saint Petersburg'}}, {'city': {'id': 2, 'title': 'Saint Petersburg'}}, {'city': {'id': 2, 'title': 'Saint Petersburg'}}, {'city': {'id': 1, 'title': 'Moscow'}}, {'city': {'id': 2, 'title': 'Saint Petersburg'}}, {'city': {'id': 1904869, 'title': 'Helsinki'}}, {'city': None}, {'city': {'id': 2, 'title': 'Saint Petersburg'}}, {'city': {'id': 2, 'title': 'Saint Petersburg'}}, {'city': {'id': 49, 'title': 'Yekaterinburg'}}, {'city': {'id': 1, 'title': 'Moscow'}}, {'city': {'id': 2, 'title': 'Saint Petersburg'}}, {'city': {'id': 2, 'title': 'Saint Petersburg'}}, {'city': {'id': 2, 'title': 'Saint Petersburg'}}, {'city': {'id': 2, 'title': 'Saint Petersburg'}}, {'city': {'id': 1, 'title': 'Moscow'}}, {'city': {'id': 1, 'title': 'Moscow'}}, {'city': {'id': 2, 'title': 'Saint Petersburg'}}, {'city': {'id': 1, 'title': 'Moscow'}}, {'city': None}, {'city': {'id': 2, 'title': 'Saint Petersburg'}}, {'city': None}, {'city': {'id': 2, 'title': 'Saint Petersburg'}}, {'city': {'id': 2, 'title': 'Saint Petersburg'}}, {'city': {'id': 1, 'title': 'Moscow'}}, {'city': {'id': 2, 'title': 'Saint Petersburg'}}, {'city': {'id': 2, 'title': 'Saint Petersburg'}}, {'city': {'id': 2, 'title': 'Saint Petersburg'}}, {'city': {'id': 2, 'title': 'Saint Petersburg'}}, {'city': {'id': 2, 'title': 'Saint Petersburg'}}, {'city': {'id': 2, 'title': 'Saint Petersburg'}}, {'city': {'id': 2, 'title': 'Saint Petersburg'}}, {'city': {'id': 2, 'title': 'Saint Petersburg'}}, {'city': {'id': 1, 'title': 'Moscow'}}, {'city': {'id': 2, 'title': 'Saint Petersburg'}}, {'city': {'id': 2, 'title': 'Saint Petersburg'}}, {'city': {'id': 2, 'title': 'Saint Petersburg'}}, {'city': {'id': 1, 'title': 'Moscow'}}, {'city': {'id': 1, 'title': 'Moscow'}}, {'city': {'id': 2, 'title': 'Saint Petersburg'}}, {'city': {'id': 2, 'title': 'Saint Petersburg'}}, {'city': {'id': 1, 'title': 'Moscow'}}, {'city': {'id': 2, 'title': 'Saint Petersburg'}}, {'city': {'id': 1, 'title': 'Moscow'}}, {'city': {'id': 1, 'title': 'Moscow'}}, {'city': {'id': 2, 'title': 'Saint Petersburg'}}, {'city': {'id': 2, 'title': 'Saint Petersburg'}}, {'city': {'id': 99, 'title': 'Novosibirsk'}}, {'city': {'id': 2, 'title': 'Saint Petersburg'}}, {'city': {'id': 99, 'title': 'Novosibirsk'}}, {'city': {'id': 1, 'title': 'Moscow'}}, {'city': {'id': 2, 'title': 'Saint Petersburg'}}, {'city': None}, {'city': None}, {'city': None}, {'city': None}, {'city': {'id': 2, 'title': 'Saint Petersburg'}}, {'city': {'id': 2, 'title': 'Saint Petersburg'}}, {'city': {'id': 2, 'title': 'Saint Petersburg'}}, {'city': {'id': 2, 'title': 'Saint Petersburg'}}, {'city': {'id': 223, 'title': 'Donetsk'}}, {'city': None}, {'city': {'id': 2, 'title': 'Saint Petersburg'}}, {'city': {'id': 153, 'title': 'Khabarovsk'}}, {'city': {'id': 2, 'title': 'Saint Petersburg'}}, {'city': {'id': 1, 'title': 'Moscow'}}, {'city': {'id': 2, 'title': 'Saint Petersburg'}}, {'city': {'id': 74, 'title': 'Kurgan'}}, {'city': {'id': 1, 'title': 'Moscow'}}, {'city': None}, {'city': {'id': 1, 'title': 'Moscow'}}, {'city': {'id': 2, 'title': 'Saint Petersburg'}}, {'city': {'id': 1933924, 'title': 'Praha'}}, {'city': {'id': 1, 'title': 'Moscow'}}, {'city': {'id': 2, 'title': 'Saint Petersburg'}}, {'city': {'id': 2, 'title': 'Saint Petersburg'}}, {'city': {'id': 1, 'title': 'Moscow'}}, {'city': {'id': 1, 'title': 'Moscow'}}, {'city': {'id': 42, 'title': 'Voronezh'}}, {'city': None}, {'city': {'id': 2, 'title': 'Saint Petersburg'}}, {'city': {'id': 2, 'title': 'Saint Petersburg'}}, {'city': {'id': 1, 'title': 'Moscow'}}, {'city': {'id': 2, 'title': 'Saint Petersburg'}}, {'city': {'id': 2, 'title': 'Saint Petersburg'}}, {'city': {'id': 99, 'title': 'Novosibirsk'}}, {'city': {'id': 857, 'title': 'Dolgoprudny'}}, {'city': {'id': 2, 'title': 'Saint Petersburg'}}, {'city': None}, {'city': {'id': 1, 'title': 'Moscow'}}, {'city': None}, {'city': {'id': 2, 'title': 'Saint Petersburg'}}, {'city': {'id': 99, 'title': 'Novosibirsk'}}, {'city': {'id': 2, 'title': 'Saint Petersburg'}}, {'city': {'id': 2, 'title': 'Saint Petersburg'}}, {'city': {'id': 1, 'title': 'Moscow'}}, {'city': {'id': 2, 'title': 'Saint Petersburg'}}, {'city': {'id': 1, 'title': 'Moscow'}}, {'city': None}, {'city': {'id': 2, 'title': 'Saint Petersburg'}}, {'city': {'id': 2, 'title': 'Saint Petersburg'}}, {'city': {'id': 2, 'title': 'Saint Petersburg'}}, {'city': {'id': 2, 'title': 'Saint Petersburg'}}, {'city': {'id': 2, 'title': 'Saint Petersburg'}}, {'city': {'id': 761, 'title': 'Vinnytsia'}}, {'city': None}, {'city': {'id': 1, 'title': 'Moscow'}}, {'city': {'id': 2, 'title': 'Saint Petersburg'}}, {'city': {'id': 2, 'title': 'Saint Petersburg'}}, {'city': {'id': 2, 'title': 'Saint Petersburg'}}, {'city': {'id': 151, 'title': 'Ufa'}}, {'city': None}, {'city': {'id': 2, 'title': 'Saint Petersburg'}}, {'city': {'id': 1, 'title': 'Moscow'}}, {'city': {'id': 1, 'title': 'Moscow'}}, {'city': {'id': 2, 'title': 'Saint Petersburg'}}, {'city': {'id': 104, 'title': 'Omsk'}}, {'city': {'id': 2, 'title': 'Saint Petersburg'}}, {'city': {'id': 87, 'title': 'Murmansk'}}, {'city': {'id': 2, 'title': 'Saint Petersburg'}}, {'city': {'id': 2, 'title': 'Saint Petersburg'}}, {'city': {'id': 2, 'title': 'Saint Petersburg'}}, {'city': {'id': 2, 'title': 'Saint Petersburg'}}, {'city': {'id': 2, 'title': 'Saint Petersburg'}}, {'city': {'id': 2, 'title': 'Saint Petersburg'}}, {'city': None}, {'city': None}, {'city': {'id': 1, 'title': 'Moscow'}}, {'city': None}, {'city': {'id': 1, 'title': 'Moscow'}}, {'city': {'id': 1, 'title': 'Moscow'}}, {'city': {'id': 183, 'title': 'Almaty'}}, {'city': {'id': 2, 'title': 'Saint Petersburg'}}, {'city': None}, {'city': {'id': 2, 'title': 'Saint Petersburg'}}, {'city': {'id': 1, 'title': 'Moscow'}}, {'city': None}, {'city': {'id': 2, 'title': 'Saint Petersburg'}}, {'city': {'id': 2, 'title': 'Saint Petersburg'}}, {'city': {'id': 1, 'title': 'Moscow'}}, {'city': {'id': 2, 'title': 'Saint Petersburg'}}, {'city': {'id': 2, 'title': 'Saint Petersburg'}}, {'city': {'id': 1, 'title': 'Moscow'}}, {'city': {'id': 2, 'title': 'Saint Petersburg'}}, {'city': {'id': 125, 'title': 'Saratov'}}, {'city': {'id': 2, 'title': 'Saint Petersburg'}}, {'city': {'id': 2, 'title': 'Saint Petersburg'}}, {'city': {'id': 2, 'title': 'Saint Petersburg'}}, {'city': {'id': 458, 'title': 'Berlin'}}, {'city': {'id': 1, 'title': 'Moscow'}}, {'city': {'id': 2, 'title': 'Saint Petersburg'}}, {'city': None}, {'city': {'id': 2, 'title': 'Saint Petersburg'}}, {'city': None}, {'city': {'id': 2, 'title': 'Saint Petersburg'}}, {'city': {'id': 2, 'title': 'Saint Petersburg'}}, {'city': {'id': 98, 'title': 'Novorossiysk'}}, {'city': {'id': 2, 'title': 'Saint Petersburg'}}, {'city': {'id': 479, 'title': 'Kuznetsk'}}, {'city': {'id': 2, 'title': 'Saint Petersburg'}}, {'city': {'id': 2, 'title': 'Saint Petersburg'}}, {'city': {'id': 2, 'title': 'Saint Petersburg'}}, {'city': {'id': 2, 'title': 'Saint Petersburg'}}, {'city': {'id': 5034024, 'title': 'Cambridge'}}, {'city': {'id': 2, 'title': 'Saint Petersburg'}}, {'city': {'id': 2, 'title': 'Saint Petersburg'}}, {'city': {'id': 1, 'title': 'Moscow'}}, {'city': {'id': 1, 'title': 'Moscow'}}, {'city': {'id': 1, 'title': 'Moscow'}}, {'city': {'id': 2, 'title': 'Saint Petersburg'}}, {'city': {'id': 2, 'title': 'Saint Petersburg'}}, {'city': {'id': 1904869, 'title': 'Helsinki'}}, {'city': {'id': 2, 'title': 'Saint Petersburg'}}, {'city': {'id': 2, 'title': 'Saint Petersburg'}}, {'city': {'id': 2, 'title': 'Saint Petersburg'}}, {'city': {'id': 1, 'title': 'Moscow'}}, {'city': {'id': 2, 'title': 'Saint Petersburg'}}, {'city': {'id': 2, 'title': 'Saint Petersburg'}}, {'city': {'id': 2, 'title': 'Saint Petersburg'}}, {'city': {'id': 183, 'title': 'Almaty'}}, {'city': {'id': 2, 'title': 'Saint Petersburg'}}, {'city': {'id': 1, 'title': 'Moscow'}}, {'city': {'id': 2, 'title': 'Saint Petersburg'}}, {'city': {'id': 2, 'title': 'Saint Petersburg'}}, {'city': {'id': 122, 'title': 'Ryazan'}}, {'city': {'id': 2, 'title': 'Saint Petersburg'}}, {'city': {'id': 1, 'title': 'Moscow'}}, {'city': {'id': 1, 'title': 'Moscow'}}, {'city': {'id': 2, 'title': 'Saint Petersburg'}}, {'city': {'id': 5303, 'title': 'Groningen'}}, {'city': {'id': 2, 'title': 'Saint Petersburg'}}, {'city': {'id': 2, 'title': 'Saint Petersburg'}}, {'city': {'id': 2, 'title': 'Saint Petersburg'}}, {'city': {'id': 1, 'title': 'Moscow'}}, {'city': {'id': 1, 'title': 'Moscow'}}, {'city': {'id': 2, 'title': 'Saint Petersburg'}}, {'city': {'id': 1, 'title': 'Moscow'}}, {'city': None}, {'city': {'id': 3296, 'title': 'Tel Aviv'}}, {'city': {'id': 2, 'title': 'Saint Petersburg'}}, {'city': {'id': 2, 'title': 'Saint Petersburg'}}, {'city': {'id': 2, 'title': 'Saint Petersburg'}}, {'city': {'id': 1901501, 'title': 'Barcelona'}}, {'city': {'id': 2, 'title': 'Saint Petersburg'}}, {'city': {'id': 2, 'title': 'Saint Petersburg'}}, {'city': None}, {'city': {'id': 1, 'title': 'Moscow'}}, {'city': {'id': 1, 'title': 'Moscow'}}, {'city': {'id': 2, 'title': 'Saint Petersburg'}}, {'city': {'id': 2, 'title': 'Saint Petersburg'}}, {'city': {'id': 1, 'title': 'Moscow'}}, {'city': {'id': 2, 'title': 'Saint Petersburg'}}, {'city': {'id': 2, 'title': 'Saint Petersburg'}}, {'city': {'id': 2, 'title': 'Saint Petersburg'}}, {'city': {'id': 2, 'title': 'Saint Petersburg'}}, {'city': None}, {'city': {'id': 1, 'title': 'Moscow'}}, {'city': {'id': 2, 'title': 'Saint Petersburg'}}, {'city': {'id': 1904856, 'title': 'Basel'}}, {'city': {'id': 25, 'title': 'Barnaul'}}, {'city': {'id': 2, 'title': 'Saint Petersburg'}}, {'city': {'id': 1915576, 'title': 'Versailles'}}, {'city': {'id': 1904869, 'title': 'Helsinki'}}, {'city': {'id': 2, 'title': 'Saint Petersburg'}}, {'city': {'id': 2, 'title': 'Saint Petersburg'}}, {'city': {'id': 2, 'title': 'Saint Petersburg'}}, {'city': {'id': 1, 'title': 'Moscow'}}, {'city': {'id': 2, 'title': 'Saint Petersburg'}}, {'city': {'id': 2, 'title': 'Saint Petersburg'}}, {'city': {'id': 183, 'title': 'Almaty'}}, {'city': {'id': 378, 'title': 'New York City'}}, {'city': {'id': 2, 'title': 'Saint Petersburg'}}, {'city': {'id': 3296, 'title': 'Tel Aviv'}}, {'city': {'id': 2, 'title': 'Saint Petersburg'}}, {'city': None}, {'city': {'id': 2, 'title': 'Saint Petersburg'}}, {'city': {'id': 2, 'title': 'Saint Petersburg'}}, {'city': {'id': 1, 'title': 'Moscow'}}, {'city': {'id': 2, 'title': 'Saint Petersburg'}}, {'city': None}, {'city': {'id': 2, 'title': 'Saint Petersburg'}}, {'city': None}, {'city': {'id': 1, 'title': 'Moscow'}}, {'city': None}, {'city': {'id': 2, 'title': 'Saint Petersburg'}}, {'city': None}, {'city': {'id': 106, 'title': 'Orenburg'}}, {'city': {'id': 2, 'title': 'Saint Petersburg'}}, {'city': {'id': 2, 'title': 'Saint Petersburg'}}, {'city': {'id': 4283519, 'title': 'Naaldwijk'}}, {'city': {'id': 2, 'title': 'Saint Petersburg'}}, {'city': {'id': 7979, 'title': 'Ariel'}}, {'city': {'id': 2, 'title': 'Saint Petersburg'}}, {'city': {'id': 1, 'title': 'Moscow'}}, {'city': None}, {'city': {'id': 2, 'title': 'Saint Petersburg'}}, {'city': {'id': 1, 'title': 'Moscow'}}, {'city': {'id': 5511527, 'title': 'Inozemtsevo'}}, {'city': {'id': 1, 'title': 'Moscow'}}, {'city': {'id': 158, 'title': 'Chelyabinsk'}}, {'city': {'id': 1, 'title': 'Moscow'}}, {'city': None}, {'city': None}, {'city': {'id': 2, 'title': 'Saint Petersburg'}}, {'city': None}, {'city': {'id': 1, 'title': 'Moscow'}}, {'city': {'id': 2, 'title': 'Saint Petersburg'}}, {'city': {'id': 1, 'title': 'Moscow'}}, {'city': {'id': 2, 'title': 'Saint Petersburg'}}, {'city': {'id': 2, 'title': 'Saint Petersburg'}}, {'city': {'id': 2, 'title': 'Saint Petersburg'}}, {'city': {'id': 2, 'title': 'Saint Petersburg'}}, {'city': {'id': 1, 'title': 'Moscow'}}, {'city': {'id': 2, 'title': 'Saint Petersburg'}}, {'city': {'id': 2, 'title': 'Saint Petersburg'}}, {'city': {'id': 2, 'title': 'Saint Petersburg'}}, {'city': {'id': 138, 'title': 'Syktyvkar'}}, {'city': {'id': 1803702, 'title': 'Phuket'}}, {'city': {'id': 2, 'title': 'Saint Petersburg'}}, {'city': {'id': 1, 'title': 'Moscow'}}, {'city': {'id': 151, 'title': 'Ufa'}}, {'city': {'id': 2, 'title': 'Saint Petersburg'}}, {'city': {'id': 2, 'title': 'Saint Petersburg'}}, {'city': {'id': 2, 'title': 'Saint Petersburg'}}, {'city': None}, {'city': None}, {'city': {'id': 2, 'title': 'Saint Petersburg'}}, {'city': {'id': 1, 'title': 'Moscow'}}, {'city': {'id': 2, 'title': 'Saint Petersburg'}}, {'city': {'id': 1, 'title': 'Moscow'}}, {'city': {'id': 1, 'title': 'Moscow'}}, {'city': None}, {'city': {'id': 1, 'title': 'Moscow'}}, {'city': {'id': 2, 'title': 'Saint Petersburg'}}, {'city': {'id': 2, 'title': 'Saint Petersburg'}}, {'city': {'id': 1, 'title': 'Moscow'}}, {'city': {'id': 2, 'title': 'Saint Petersburg'}}, {'city': {'id': 2, 'title': 'Saint Petersburg'}}, {'city': {'id': 1, 'title': 'Moscow'}}, {'city': {'id': 2, 'title': 'Saint Petersburg'}}, {'city': {'id': 2, 'title': 'Saint Petersburg'}}, {'city': {'id': 1, 'title': 'Moscow'}}, {'city': {'id': 49, 'title': 'Yekaterinburg'}}, {'city': {'id': 1, 'title': 'Moscow'}}, {'city': {'id': 2, 'title': 'Saint Petersburg'}}, {'city': {'id': 1, 'title': 'Moscow'}}, {'city': None}, {'city': {'id': 109, 'title': 'Penza'}}, {'city': {'id': 2, 'title': 'Saint Petersburg'}}, {'city': None}, {'city': {'id': 2, 'title': 'Saint Petersburg'}}, {'city': {'id': 1965294, 'title': 'Tbilisi'}}, {'city': {'id': 2, 'title': 'Saint Petersburg'}}, {'city': {'id': 2, 'title': 'Saint Petersburg'}}, {'city': {'id': 2, 'title': 'Saint Petersburg'}}, {'city': {'id': 2, 'title': 'Saint Petersburg'}}, {'city': {'id': 1, 'title': 'Moscow'}}, {'city': {'id': 95, 'title': 'Nizhny Novgorod'}}, {'city': {'id': 2, 'title': 'Saint Petersburg'}}, {'city': {'id': 2, 'title': 'Saint Petersburg'}}, {'city': {'id': 1, 'title': 'Moscow'}}, {'city': {'id': 2, 'title': 'Saint Petersburg'}}, {'city': {'id': 194, 'title': 'Tashkent'}}, {'city': {'id': 1, 'title': 'Moscow'}}, {'city': {'id': 1, 'title': 'Moscow'}}, {'city': {'id': 1519, 'title': 'Gatchina'}}, {'city': None}, {'city': {'id': 2, 'title': 'Saint Petersburg'}}, {'city': {'id': 21709, 'title': 'Biel / Bienne'}}, {'city': {'id': 2, 'title': 'Saint Petersburg'}}, {'city': {'id': 2, 'title': 'Saint Petersburg'}}, {'city': {'id': 1519, 'title': 'Gatchina'}}, {'city': None}, {'city': {'id': 2, 'title': 'Saint Petersburg'}}, {'city': {'id': 1, 'title': 'Moscow'}}, {'city': {'id': 1, 'title': 'Moscow'}}, {'city': {'id': 1, 'title': 'Moscow'}}, {'city': None}, {'city': {'id': 2, 'title': 'Saint Petersburg'}}, {'city': {'id': 2, 'title': 'Saint Petersburg'}}, {'city': {'id': 2, 'title': 'Saint Petersburg'}}, {'city': {'id': 2, 'title': 'Saint Petersburg'}}, {'city': {'id': 2, 'title': 'Saint Petersburg'}}, {'city': {'id': 628, 'title': 'Zaporizhia'}}, {'city': {'id': 1, 'title': 'Moscow'}}, {'city': {'id': 1, 'title': 'Moscow'}}, {'city': {'id': 60, 'title': 'Kazan'}}, {'city': {'id': 2, 'title': 'Saint Petersburg'}}, {'city': {'id': 2, 'title': 'Saint Petersburg'}}, {'city': {'id': 2, 'title': 'Saint Petersburg'}}, {'city': {'id': 2, 'title': 'Saint Petersburg'}}, {'city': {'id': 1, 'title': 'Moscow'}}, {'city': {'id': 2, 'title': 'Saint Petersburg'}}, {'city': {'id': 2, 'title': 'Saint Petersburg'}}, {'city': {'id': 2, 'title': 'Saint Petersburg'}}, {'city': {'id': 2, 'title': 'Saint Petersburg'}}, {'city': {'id': 2, 'title': 'Saint Petersburg'}}, {'city': {'id': 2, 'title': 'Saint Petersburg'}}, {'city': {'id': 1950030, 'title': 'Beograd'}}, {'city': {'id': 1, 'title': 'Moscow'}}, {'city': {'id': 2, 'title': 'Saint Petersburg'}}, {'city': {'id': 2, 'title': 'Saint Petersburg'}}, {'city': {'id': 1, 'title': 'Moscow'}}, {'city': {'id': 2, 'title': 'Saint Petersburg'}}, {'city': {'id': 2, 'title': 'Saint Petersburg'}}, {'city': {'id': 2, 'title': 'Saint Petersburg'}}, {'city': {'id': 2, 'title': 'Saint Petersburg'}}, {'city': {'id': 2, 'title': 'Saint Petersburg'}}, {'city': {'id': 2, 'title': 'Saint Petersburg'}}, {'city': {'id': 2, 'title': 'Saint Petersburg'}}, {'city': {'id': 108, 'title': 'Orsk'}}, {'city': {'id': 2, 'title': 'Saint Petersburg'}}, {'city': {'id': 2722592, 'title': 'Nuuk'}}, {'city': {'id': 143, 'title': 'Tolyatti'}}, {'city': {'id': 2, 'title': 'Saint Petersburg'}}, {'city': {'id': 2, 'title': 'Saint Petersburg'}}, {'city': {'id': 2, 'title': 'Saint Petersburg'}}, {'city': {'id': 2, 'title': 'Saint Petersburg'}}, {'city': {'id': 1, 'title': 'Moscow'}}, {'city': {'id': 2, 'title': 'Saint Petersburg'}}, {'city': {'id': 2, 'title': 'Saint Petersburg'}}, {'city': {'id': 1, 'title': 'Moscow'}}, {'city': {'id': 2, 'title': 'Saint Petersburg'}}, {'city': {'id': 1, 'title': 'Moscow'}}, {'city': {'id': 2, 'title': 'Saint Petersburg'}}, {'city': {'id': 2, 'title': 'Saint Petersburg'}}, {'city': {'id': 2, 'title': 'Saint Petersburg'}}, {'city': None}, {'city': {'id': 1, 'title': 'Moscow'}}, {'city': {'id': 2, 'title': 'Saint Petersburg'}}, {'city': {'id': 2, 'title': 'Saint Petersburg'}}, {'city': {'id': 2, 'title': 'Saint Petersburg'}}, {'city': {'id': 141, 'title': 'Tver'}}, {'city': None}, {'city': {'id': 2, 'title': 'Saint Petersburg'}}, {'city': {'id': 1, 'title': 'Moscow'}}, {'city': None}, {'city': {'id': 2, 'title': 'Saint Petersburg'}}, {'city': {'id': 99, 'title': 'Novosibirsk'}}, {'city': {'id': 2, 'title': 'Saint Petersburg'}}, {'city': None}, {'city': {'id': 1921081, 'title': 'Trapani'}}, {'city': {'id': 2, 'title': 'Saint Petersburg'}}, {'city': {'id': 2, 'title': 'Saint Petersburg'}}, {'city': {'id': 1, 'title': 'Moscow'}}, {'city': {'id': 2, 'title': 'Saint Petersburg'}}, {'city': {'id': 73, 'title': 'Krasnoyarsk'}}, {'city': None}, {'city': {'id': 1, 'title': 'Moscow'}}, {'city': {'id': 2, 'title': 'Saint Petersburg'}}, {'city': {'id': 123, 'title': 'Samara'}}, {'city': {'id': 144, 'title': 'Tomsk'}}, {'city': {'id': 2, 'title': 'Saint Petersburg'}}, {'city': {'id': 2, 'title': 'Saint Petersburg'}}, {'city': {'id': 2, 'title': 'Saint Petersburg'}}, {'city': {'id': 2, 'title': 'Saint Petersburg'}}, {'city': {'id': 2, 'title': 'Saint Petersburg'}}, {'city': None}, {'city': {'id': 1, 'title': 'Moscow'}}, {'city': {'id': 2, 'title': 'Saint Petersburg'}}, {'city': None}, {'city': {'id': 2, 'title': 'Saint Petersburg'}}, {'city': {'id': 2, 'title': 'Saint Petersburg'}}, {'city': {'id': 40, 'title': 'Volzhsky'}}, {'city': {'id': 2, 'title': 'Saint Petersburg'}}, {'city': {'id': 2, 'title': 'Saint Petersburg'}}, {'city': {'id': 2, 'title': 'Saint Petersburg'}}, {'city': {'id': 2, 'title': 'Saint Petersburg'}}, {'city': {'id': 2, 'title': 'Saint Petersburg'}}, {'city': {'id': 2, 'title': 'Saint Petersburg'}}, {'city': {'id': 2, 'title': 'Saint Petersburg'}}, {'city': {'id': 2, 'title': 'Saint Petersburg'}}, {'city': None}, {'city': {'id': 5833, 'title': 'Yuryev-Polsky'}}, {'city': {'id': 2, 'title': 'Saint Petersburg'}}, {'city': {'id': 1, 'title': 'Moscow'}}, {'city': {'id': 1, 'title': 'Moscow'}}, {'city': {'id': 2, 'title': 'Saint Petersburg'}}, {'city': {'id': 2, 'title': 'Saint Petersburg'}}, {'city': {'id': 2, 'title': 'Saint Petersburg'}}, {'city': {'id': 2, 'title': 'Saint Petersburg'}}, {'city': {'id': 1, 'title': 'Moscow'}}, {'city': None}, {'city': {'id': 2, 'title': 'Saint Petersburg'}}, {'city': {'id': 1, 'title': 'Moscow'}}, {'city': {'id': 2, 'title': 'Saint Petersburg'}}, {'city': {'id': 2, 'title': 'Saint Petersburg'}}, {'city': {'id': 2, 'title': 'Saint Petersburg'}}, {'city': {'id': 99, 'title': 'Novosibirsk'}}, {'city': {'id': 2, 'title': 'Saint Petersburg'}}, {'city': {'id': 1, 'title': 'Moscow'}}, {'city': {'id': 2, 'title': 'Saint Petersburg'}}, {'city': {'id': 1, 'title': 'Moscow'}}, {'city': None}, {'city': {'id': 1, 'title': 'Moscow'}}, {'city': {'id': 273, 'title': 'Toronto'}}, {'city': {'id': 2, 'title': 'Saint Petersburg'}}, {'city': {'id': 2, 'title': 'Saint Petersburg'}}, {'city': None}, {'city': {'id': 2, 'title': 'Saint Petersburg'}}, {'city': {'id': 2, 'title': 'Saint Petersburg'}}, {'city': {'id': 1, 'title': 'Moscow'}}, {'city': {'id': 1, 'title': 'Moscow'}}, {'city': {'id': 2, 'title': 'Saint Petersburg'}}, {'city': {'id': 2, 'title': 'Saint Petersburg'}}, {'city': {'id': 1, 'title': 'Moscow'}}, {'city': {'id': 2, 'title': 'Saint Petersburg'}}, {'city': {'id': 2, 'title': 'Saint Petersburg'}}, {'city': {'id': 1, 'title': 'Moscow'}}, {'city': {'id': 2, 'title': 'Saint Petersburg'}}, {'city': {'id': 1, 'title': 'Moscow'}}, {'city': {'id': 1, 'title': 'Moscow'}}, {'city': {'id': 1, 'title': 'Moscow'}}, {'city': None}, {'city': None}, {'city': {'id': 1, 'title': 'Moscow'}}, {'city': {'id': 2, 'title': 'Saint Petersburg'}}, {'city': {'id': 2, 'title': 'Saint Petersburg'}}, {'city': {'id': 1, 'title': 'Moscow'}}, {'city': None}, {'city': None}, {'city': {'id': 2, 'title': 'Saint Petersburg'}}, {'city': {'id': 2, 'title': 'Saint Petersburg'}}, {'city': {'id': 1, 'title': 'Moscow'}}, {'city': {'id': 2, 'title': 'Saint Petersburg'}}, {'city': {'id': 627, 'title': 'Simferopol'}}, {'city': {'id': 2, 'title': 'Saint Petersburg'}}, {'city': {'id': 1, 'title': 'Moscow'}}, {'city': {'id': 2, 'title': 'Saint Petersburg'}}, {'city': {'id': 2, 'title': 'Saint Petersburg'}}, {'city': {'id': 1, 'title': 'Moscow'}}, {'city': {'id': 1, 'title': 'Moscow'}}, {'city': {'id': 1246, 'title': 'Edinburgh'}}, {'city': {'id': 2, 'title': 'Saint Petersburg'}}, {'city': None}, {'city': {'id': 2, 'title': 'Saint Petersburg'}}, {'city': {'id': 5267628, 'title': 'Grafing bei München'}}, {'city': None}, {'city': {'id': 2, 'title': 'Saint Petersburg'}}, {'city': None}, {'city': {'id': 2, 'title': 'Saint Petersburg'}}, {'city': {'id': 2, 'title': 'Saint Petersburg'}}, {'city': {'id': 2, 'title': 'Saint Petersburg'}}, {'city': {'id': 2, 'title': 'Saint Petersburg'}}, {'city': {'id': 2, 'title': 'Saint Petersburg'}}, {'city': {'id': 2, 'title': 'Saint Petersburg'}}, {'city': {'id': 2, 'title': 'Saint Petersburg'}}, {'city': {'id': 2, 'title': 'Saint Petersburg'}}, {'city': {'id': 2, 'title': 'Saint Petersburg'}}, {'city': {'id': 2, 'title': 'Saint Petersburg'}}, {'city': None}, {'city': None}, {'city': {'id': 2, 'title': 'Saint Petersburg'}}, {'city': {'id': 2, 'title': 'Saint Petersburg'}}, {'city': {'id': 2, 'title': 'Saint Petersburg'}}, {'city': None}, {'city': {'id': 2, 'title': 'Saint Petersburg'}}, {'city': {'id': 2, 'title': 'Saint Petersburg'}}, {'city': {'id': 2, 'title': 'Saint Petersburg'}}, {'city': {'id': 60, 'title': 'Kazan'}}, {'city': {'id': 420, 'title': 'Bergen'}}, {'city': {'id': 1, 'title': 'Moscow'}}, {'city': {'id': 2, 'title': 'Saint Petersburg'}}, {'city': {'id': 1, 'title': 'Moscow'}}, {'city': {'id': 2, 'title': 'Saint Petersburg'}}, {'city': {'id': 2722625, 'title': 'Mindelo'}}, {'city': {'id': 17626, 'title': 'Cascais'}}, {'city': {'id': 1, 'title': 'Moscow'}}, {'city': {'id': 2, 'title': 'Saint Petersburg'}}, {'city': {'id': 9, 'title': 'Buenos Aires'}}, {'city': None}, {'city': None}, {'city': {'id': 2, 'title': 'Saint Petersburg'}}, {'city': {'id': 2, 'title': 'Saint Petersburg'}}, {'city': {'id': 2, 'title': 'Saint Petersburg'}}, {'city': None}, {'city': {'id': 857, 'title': 'Dolgoprudny'}}, {'city': {'id': 138, 'title': 'Syktyvkar'}}, {'city': {'id': 649, 'title': 'Grodno'}}, {'city': {'id': 2, 'title': 'Saint Petersburg'}}, {'city': {'id': 1, 'title': 'Moscow'}}, {'city': {'id': 1, 'title': 'Moscow'}}, {'city': {'id': 2, 'title': 'Saint Petersburg'}}, {'city': {'id': 2, 'title': 'Saint Petersburg'}}, {'city': None}, {'city': {'id': 857, 'title': 'Dolgoprudny'}}, {'city': None}, {'city': {'id': 220, 'title': 'Tallinn'}}, {'city': {'id': 2, 'title': 'Saint Petersburg'}}, {'city': {'id': 2, 'title': 'Saint Petersburg'}}, {'city': None}, {'city': {'id': 2, 'title': 'Saint Petersburg'}}, {'city': {'id': 1, 'title': 'Moscow'}}, {'city': None}, {'city': {'id': 114, 'title': 'Pskov'}}, {'city': {'id': 2, 'title': 'Saint Petersburg'}}, {'city': None}, {'city': {'id': 2, 'title': 'Saint Petersburg'}}, {'city': {'id': 1, 'title': 'Moscow'}}, {'city': {'id': 2, 'title': 'Saint Petersburg'}}, {'city': {'id': 2, 'title': 'Saint Petersburg'}}, {'city': {'id': 95, 'title': 'Nizhny Novgorod'}}, {'city': {'id': 2, 'title': 'Saint Petersburg'}}, {'city': {'id': 2, 'title': 'Saint Petersburg'}}, {'city': {'id': 2, 'title': 'Saint Petersburg'}}, {'city': {'id': 2, 'title': 'Saint Petersburg'}}, {'city': {'id': 2, 'title': 'Saint Petersburg'}}, {'city': {'id': 2, 'title': 'Saint Petersburg'}}, {'city': {'id': 458, 'title': 'Berlin'}}, {'city': {'id': 2, 'title': 'Saint Petersburg'}}, {'city': {'id': 2, 'title': 'Saint Petersburg'}}, {'city': {'id': 1, 'title': 'Moscow'}}, {'city': {'id': 2, 'title': 'Saint Petersburg'}}, {'city': None}, {'city': None}, {'city': {'id': 151, 'title': 'Ufa'}}, {'city': {'id': 2, 'title': 'Saint Petersburg'}}, {'city': {'id': 2, 'title': 'Saint Petersburg'}}, {'city': {'id': 2, 'title': 'Saint Petersburg'}}, {'city': {'id': 2, 'title': 'Saint Petersburg'}}, {'city': {'id': 2, 'title': 'Saint Petersburg'}}, {'city': {'id': 2, 'title': 'Saint Petersburg'}}, {'city': {'id': 2, 'title': 'Saint Petersburg'}}, {'city': {'id': 2, 'title': 'Saint Petersburg'}}, {'city': {'id': 1, 'title': 'Moscow'}}, {'city': {'id': 2, 'title': 'Saint Petersburg'}}, {'city': {'id': 2, 'title': 'Saint Petersburg'}}, {'city': {'id': 2, 'title': 'Saint Petersburg'}}, {'city': {'id': 2, 'title': 'Saint Petersburg'}}, {'city': {'id': 2, 'title': 'Saint Petersburg'}}, {'city': {'id': 2, 'title': 'Saint Petersburg'}}, {'city': {'id': 2, 'title': 'Saint Petersburg'}}, {'city': {'id': 2, 'title': 'Saint Petersburg'}}, {'city': {'id': 2, 'title': 'Saint Petersburg'}}, {'city': {'id': 2, 'title': 'Saint Petersburg'}}, {'city': {'id': 2, 'title': 'Saint Petersburg'}}, {'city': {'id': 2, 'title': 'Saint Petersburg'}}, {'city': {'id': 2, 'title': 'Saint Petersburg'}}, {'city': {'id': 2, 'title': 'Saint Petersburg'}}, {'city': None}, {'city': {'id': 2, 'title': 'Saint Petersburg'}}, {'city': {'id': 1, 'title': 'Moscow'}}, {'city': {'id': 2, 'title': 'Saint Petersburg'}}, {'city': None}, {'city': {'id': 2, 'title': 'Saint Petersburg'}}, {'city': None}, {'city': {'id': 2, 'title': 'Saint Petersburg'}}, {'city': {'id': 295, 'title': 'London'}}, {'city': {'id': 2, 'title': 'Saint Petersburg'}}, {'city': {'id': 2, 'title': 'Saint Petersburg'}}, {'city': None}, {'city': {'id': 2, 'title': 'Saint Petersburg'}}, {'city': None}, {'city': {'id': 2, 'title': 'Saint Petersburg'}}, {'city': {'id': 2, 'title': 'Saint Petersburg'}}, {'city': {'id': 2, 'title': 'Saint Petersburg'}}, {'city': {'id': 5122912, 'title': 'Bradford West Gwillimbury'}}, {'city': {'id': 185, 'title': 'Sevastopol'}}, {'city': {'id': 2182, 'title': 'Reykjavík'}}, {'city': {'id': 2, 'title': 'Saint Petersburg'}}, {'city': {'id': 2, 'title': 'Saint Petersburg'}}, {'city': None}, {'city': {'id': 2, 'title': 'Saint Petersburg'}}, {'city': {'id': 2, 'title': 'Saint Petersburg'}}, {'city': {'id': 2, 'title': 'Saint Petersburg'}}, {'city': {'id': 1, 'title': 'Moscow'}}, {'city': None}, {'city': {'id': 2, 'title': 'Saint Petersburg'}}, {'city': {'id': 2, 'title': 'Saint Petersburg'}}, {'city': {'id': 2, 'title': 'Saint Petersburg'}}, {'city': {'id': 2, 'title': 'Saint Petersburg'}}, {'city': {'id': 2, 'title': 'Saint Petersburg'}}, {'city': None}, {'city': {'id': 2, 'title': 'Saint Petersburg'}}, {'city': {'id': 2, 'title': 'Saint Petersburg'}}, {'city': None}, {'city': {'id': 41, 'title': 'Vologda'}}, {'city': {'id': 2, 'title': 'Saint Petersburg'}}, {'city': None}, {'city': {'id': 1, 'title': 'Moscow'}}, {'city': {'id': 2, 'title': 'Saint Petersburg'}}, {'city': None}, {'city': {'id': 2, 'title': 'Saint Petersburg'}}, {'city': None}, {'city': {'id': 295, 'title': 'London'}}, {'city': {'id': 2, 'title': 'Saint Petersburg'}}, {'city': {'id': 2, 'title': 'Saint Petersburg'}}, {'city': {'id': 635, 'title': 'Hamburg'}}, {'city': {'id': 1, 'title': 'Moscow'}}, {'city': {'id': 1933924, 'title': 'Praha'}}, {'city': None}, {'city': {'id': 1, 'title': 'Moscow'}}, {'city': {'id': 2, 'title': 'Saint Petersburg'}}, {'city': {'id': 1, 'title': 'Moscow'}}, {'city': {'id': 1, 'title': 'Moscow'}}, {'city': {'id': 1, 'title': 'Moscow'}}, {'city': {'id': 2, 'title': 'Saint Petersburg'}}, {'city': {'id': 1, 'title': 'Moscow'}}, {'city': {'id': 1, 'title': 'Moscow'}}, {'city': {'id': 1, 'title': 'Moscow'}}, {'city': {'id': 2, 'title': 'Saint Petersburg'}}, {'city': None}, {'city': {'id': 1, 'title': 'Moscow'}}, {'city': {'id': 2, 'title': 'Saint Petersburg'}}, {'city': {'id': 2, 'title': 'Saint Petersburg'}}, {'city': {'id': 2, 'title': 'Saint Petersburg'}}, {'city': {'id': 2, 'title': 'Saint Petersburg'}}, {'city': {'id': 2, 'title': 'Saint Petersburg'}}, {'city': {'id': 1, 'title': 'Moscow'}}, {'city': None}, {'city': {'id': 1, 'title': 'Moscow'}}, {'city': {'id': 1, 'title': 'Moscow'}}, {'city': {'id': 21050, 'title': 'Dublin'}}, {'city': {'id': 1, 'title': 'Moscow'}}, {'city': {'id': 2, 'title': 'Saint Petersburg'}}, {'city': {'id': 22168, 'title': 'Amsterdam'}}, {'city': {'id': 1, 'title': 'Moscow'}}, {'city': {'id': 2, 'title': 'Saint Petersburg'}}, {'city': {'id': 2, 'title': 'Saint Petersburg'}}, {'city': None}, {'city': None}, {'city': {'id': 2, 'title': 'Saint Petersburg'}}, {'city': None}, {'city': {'id': 1, 'title': 'Moscow'}}, {'city': {'id': 1, 'title': 'Moscow'}}, {'city': {'id': 2, 'title': 'Saint Petersburg'}}, {'city': {'id': 1, 'title': 'Moscow'}}, {'city': None}, {'city': {'id': 2, 'title': 'Saint Petersburg'}}, {'city': {'id': 2, 'title': 'Saint Petersburg'}}, {'city': {'id': 2, 'title': 'Saint Petersburg'}}, {'city': {'id': 2, 'title': 'Saint Petersburg'}}, {'city': {'id': 2, 'title': 'Saint Petersburg'}}, {'city': {'id': 2, 'title': 'Saint Petersburg'}}, {'city': {'id': 2, 'title': 'Saint Petersburg'}}, {'city': {'id': 2, 'title': 'Saint Petersburg'}}, {'city': {'id': 1, 'title': 'Moscow'}}, {'city': {'id': 32, 'title': 'Bratsk'}}, {'city': {'id': 1, 'title': 'Moscow'}}, {'city': {'id': 1, 'title': 'Moscow'}}, {'city': {'id': 1, 'title': 'Moscow'}}, {'city': {'id': 2, 'title': 'Saint Petersburg'}}, {'city': {'id': 2, 'title': 'Saint Petersburg'}}, {'city': None}, {'city': {'id': 208, 'title': 'San Francisco'}}, {'city': {'id': 1, 'title': 'Moscow'}}, {'city': {'id': 99, 'title': 'Novosibirsk'}}, {'city': {'id': 99, 'title': 'Novosibirsk'}}, {'city': {'id': 2, 'title': 'Saint Petersburg'}}, {'city': {'id': 1, 'title': 'Moscow'}}, {'city': {'id': 2, 'title': 'Saint Petersburg'}}, {'city': {'id': 1, 'title': 'Moscow'}}, {'city': {'id': 1, 'title': 'Moscow'}}, {'city': {'id': 2, 'title': 'Saint Petersburg'}}, {'city': {'id': 2, 'title': 'Saint Petersburg'}}, {'city': {'id': 2, 'title': 'Saint Petersburg'}}, {'city': {'id': 141, 'title': 'Tver'}}, {'city': {'id': 1, 'title': 'Moscow'}}, {'city': None}, {'city': {'id': 1, 'title': 'Moscow'}}, {'city': {'id': 1, 'title': 'Moscow'}}, {'city': {'id': 2, 'title': 'Saint Petersburg'}}, {'city': {'id': 147, 'title': 'Tyumen'}}, {'city': None}, {'city': {'id': 1, 'title': 'Moscow'}}, {'city': {'id': 1, 'title': 'Moscow'}}, {'city': {'id': 1, 'title': 'Moscow'}}, {'city': {'id': 2, 'title': 'Saint Petersburg'}}, {'city': {'id': 2, 'title': 'Saint Petersburg'}}, {'city': {'id': 1, 'title': 'Moscow'}}, {'city': {'id': 2, 'title': 'Saint Petersburg'}}, {'city': {'id': 2, 'title': 'Saint Petersburg'}}, {'city': {'id': 2, 'title': 'Saint Petersburg'}}, {'city': {'id': 2, 'title': 'Saint Petersburg'}}, {'city': {'id': 1, 'title': 'Moscow'}}, {'city': {'id': 1, 'title': 'Moscow'}}, {'city': {'id': 2, 'title': 'Saint Petersburg'}}, {'city': {'id': 2, 'title': 'Saint Petersburg'}}, {'city': None}, {'city': {'id': 2, 'title': 'Saint Petersburg'}}, {'city': {'id': 1, 'title': 'Moscow'}}, {'city': {'id': 2, 'title': 'Saint Petersburg'}}, {'city': None}, {'city': {'id': 1, 'title': 'Moscow'}}, {'city': {'id': 2, 'title': 'Saint Petersburg'}}, {'city': {'id': 1, 'title': 'Moscow'}}, {'city': {'id': 1, 'title': 'Moscow'}}, {'city': {'id': 1, 'title': 'Moscow'}}, {'city': {'id': 1, 'title': 'Moscow'}}, {'city': {'id': 1, 'title': 'Moscow'}}, {'city': {'id': 1, 'title': 'Moscow'}}, {'city': {'id': 2, 'title': 'Saint Petersburg'}}, {'city': {'id': 2, 'title': 'Saint Petersburg'}}, {'city': {'id': 2, 'title': 'Saint Petersburg'}}, {'city': {'id': 1, 'title': 'Moscow'}}, {'city': {'id': 458, 'title': 'Berlin'}}, {'city': {'id': 2, 'title': 'Saint Petersburg'}}, {'city': {'id': 1, 'title': 'Moscow'}}, {'city': {'id': 1, 'title': 'Moscow'}}, {'city': {'id': 2, 'title': 'Saint Petersburg'}}, {'city': {'id': 42, 'title': 'Voronezh'}}, {'city': {'id': 1, 'title': 'Moscow'}}, {'city': {'id': 1, 'title': 'Moscow'}}, {'city': {'id': 1, 'title': 'Moscow'}}, {'city': {'id': 119, 'title': 'Rostov-on-Don'}}, {'city': {'id': 1711, 'title': 'Uman'}}, {'city': {'id': 1, 'title': 'Moscow'}}, {'city': {'id': 2, 'title': 'Saint Petersburg'}}, {'city': {'id': 2, 'title': 'Saint Petersburg'}}, {'city': {'id': 2, 'title': 'Saint Petersburg'}}, {'city': None}, {'city': None}, {'city': {'id': 1, 'title': 'Moscow'}}, {'city': {'id': 1515655, 'title': 'Wrocław'}}, {'city': {'id': 2, 'title': 'Saint Petersburg'}}, {'city': {'id': 2, 'title': 'Saint Petersburg'}}, {'city': {'id': 2, 'title': 'Saint Petersburg'}}, {'city': {'id': 1, 'title': 'Moscow'}}, {'city': None}, {'city': {'id': 1, 'title': 'Moscow'}}, {'city': {'id': 2, 'title': 'Saint Petersburg'}}, {'city': None}, {'city': None}, {'city': {'id': 1, 'title': 'Moscow'}}, {'city': {'id': 1, 'title': 'Moscow'}}, {'city': None}, {'city': {'id': 1, 'title': 'Moscow'}}, {'city': {'id': 2, 'title': 'Saint Petersburg'}}, {'city': {'id': 1, 'title': 'Moscow'}}, {'city': {'id': 2, 'title': 'Saint Petersburg'}}, {'city': {'id': 1, 'title': 'Moscow'}}, {'city': {'id': 1, 'title': 'Moscow'}}, {'city': {'id': 2, 'title': 'Saint Petersburg'}}, {'city': {'id': 2, 'title': 'Saint Petersburg'}}, {'city': {'id': 116, 'title': 'Pyatigorsk'}}, {'city': {'id': 2, 'title': 'Saint Petersburg'}}, {'city': {'id': 1950345, 'title': 'México'}}, {'city': {'id': 1, 'title': 'Moscow'}}, {'city': {'id': 2, 'title': 'Saint Petersburg'}}, {'city': {'id': 99, 'title': 'Novosibirsk'}}, {'city': {'id': 1, 'title': 'Moscow'}}, {'city': None}, {'city': None}, {'city': {'id': 2, 'title': 'Saint Petersburg'}}, {'city': None}, {'city': None}, {'city': {'id': 1, 'title': 'Moscow'}}, {'city': {'id': 2, 'title': 'Saint Petersburg'}}, {'city': None}, {'city': {'id': 1, 'title': 'Moscow'}}, {'city': {'id': 1, 'title': 'Moscow'}}, {'city': {'id': 2, 'title': 'Saint Petersburg'}}, {'city': None}, {'city': {'id': 2, 'title': 'Saint Petersburg'}}, {'city': {'id': 2, 'title': 'Saint Petersburg'}}, {'city': {'id': 2, 'title': 'Saint Petersburg'}}, {'city': {'id': 1, 'title': 'Moscow'}}, {'city': {'id': 2, 'title': 'Saint Petersburg'}}, {'city': {'id': 2, 'title': 'Saint Petersburg'}}, {'city': None}, {'city': {'id': 2, 'title': 'Saint Petersburg'}}, {'city': {'id': 2, 'title': 'Saint Petersburg'}}, {'city': {'id': 1, 'title': 'Moscow'}}, {'city': {'id': 2, 'title': 'Saint Petersburg'}}, {'city': {'id': 1, 'title': 'Moscow'}}, {'city': {'id': 2, 'title': 'Saint Petersburg'}}, {'city': {'id': 2, 'title': 'Saint Petersburg'}}, {'city': {'id': 2, 'title': 'Saint Petersburg'}}, {'city': {'id': 1, 'title': 'Moscow'}}, {'city': {'id': 1, 'title': 'Moscow'}}, {'city': {'id': 2, 'title': 'Saint Petersburg'}}, {'city': {'id': 2, 'title': 'Saint Petersburg'}}, {'city': {'id': 2, 'title': 'Saint Petersburg'}}, {'city': {'id': 2, 'title': 'Saint Petersburg'}}, {'city': {'id': 22, 'title': 'Arkhangelsk'}}, {'city': {'id': 2, 'title': 'Saint Petersburg'}}, {'city': {'id': 1, 'title': 'Moscow'}}, {'city': {'id': 2, 'title': 'Saint Petersburg'}}, {'city': {'id': 2, 'title': 'Saint Petersburg'}}, {'city': {'id': 2, 'title': 'Saint Petersburg'}}, {'city': {'id': 2, 'title': 'Saint Petersburg'}}, {'city': None}, {'city': {'id': 2, 'title': 'Saint Petersburg'}}, {'city': {'id': 2, 'title': 'Saint Petersburg'}}, {'city': None}, {'city': {'id': 2, 'title': 'Saint Petersburg'}}, {'city': {'id': 2, 'title': 'Saint Petersburg'}}, {'city': None}, {'city': None}, {'city': {'id': 2, 'title': 'Saint Petersburg'}}, {'city': {'id': 2, 'title': 'Saint Petersburg'}}, {'city': {'id': 2, 'title': 'Saint Petersburg'}}, {'city': {'id': 1, 'title': 'Moscow'}}, {'city': {'id': 2, 'title': 'Saint Petersburg'}}, {'city': {'id': 1914764, 'title': 'Tokyo'}}, {'city': {'id': 1, 'title': 'Moscow'}}, {'city': {'id': 2, 'title': 'Saint Petersburg'}}, {'city': {'id': 2, 'title': 'Saint Petersburg'}}, {'city': {'id': 2, 'title': 'Saint Petersburg'}}, {'city': {'id': 2, 'title': 'Saint Petersburg'}}, {'city': {'id': 2, 'title': 'Saint Petersburg'}}, {'city': {'id': 1, 'title': 'Moscow'}}, {'city': {'id': 1, 'title': 'Moscow'}}, {'city': None}, {'city': {'id': 1, 'title': 'Moscow'}}, {'city': {'id': 2, 'title': 'Saint Petersburg'}}, {'city': {'id': 2, 'title': 'Saint Petersburg'}}, {'city': None}, {'city': None}]\n"
          ]
        }
      ]
    },
    {
      "cell_type": "markdown",
      "source": [
        "### **Возможный алгоритм решения задачи:**"
      ],
      "metadata": {
        "id": "FWIIqKg6KZLe"
      }
    },
    {
      "cell_type": "markdown",
      "source": [
        "1.   Получаем токен доступа к API Вконтакте\n",
        "2.   Инициализируем сессию библиотеки VK_API с помощью токена доступа\n",
        "3. Получаем доступ с помощью VK_API к API вконтакте методом get_api\n",
        "\n",
        "4. Следуя методу из документации для получения сообществ и используя библиотеку VK_API, составляем запрос на получение информации о сообществе \"Лентач\" и получаем его id из ответа на запрос\n",
        "\n",
        "5. Следуя методу (getMembers) из документации для получения участников сообщества и используя библиотеку VK_API, составляем запрос на получение информации о участниках сообщества \"Лентач\" (по найденному id) и **получаем пол, город и СП** каждого из участников\n",
        "\n",
        "6. С помощью CSV библиотеки записываем полученные данные в файл с форматом csv\n",
        "\n",
        "\n",
        "\n"
      ],
      "metadata": {
        "id": "yHNVe0qbDCbP"
      }
    },
    {
      "cell_type": "markdown",
      "source": [
        "# **Часть II. Парсинг**"
      ],
      "metadata": {
        "id": "vsJ_EutOJRaf"
      }
    },
    {
      "cell_type": "markdown",
      "source": [
        "## **Задание 1. Библиотека BeautifulSoup**"
      ],
      "metadata": {
        "id": "zKH9MpmOepks"
      }
    },
    {
      "cell_type": "markdown",
      "source": [
        "Написать код, который соберет список знаменательных дат в формате «чисто месяц год» с первой страницы сайта GCTC.ru (https://www.gctc.ru/main.php?id=98.1)"
      ],
      "metadata": {
        "id": "EvfKn3WArL8X"
      }
    },
    {
      "cell_type": "code",
      "source": [
        "!pip install bs4\n",
        "# Установки BeautifulSoup4"
      ],
      "metadata": {
        "id": "Yn4HY__JK6Kd",
        "colab": {
          "base_uri": "https://localhost:8080/"
        },
        "outputId": "571f3d65-2c00-41e5-b5d0-8adc92922f5c"
      },
      "execution_count": null,
      "outputs": [
        {
          "output_type": "stream",
          "name": "stdout",
          "text": [
            "Requirement already satisfied: bs4 in /usr/local/lib/python3.10/dist-packages (0.0.2)\n",
            "Requirement already satisfied: beautifulsoup4 in /usr/local/lib/python3.10/dist-packages (from bs4) (4.11.2)\n",
            "Requirement already satisfied: soupsieve>1.2 in /usr/local/lib/python3.10/dist-packages (from beautifulsoup4->bs4) (2.5)\n"
          ]
        }
      ]
    },
    {
      "cell_type": "code",
      "source": [
        "import requests\n",
        "from requests.exceptions import HTTPError\n",
        "from bs4 import BeautifulSoup\n",
        "# Импортируем нужные библиотеки\n",
        "\n",
        "URL = 'https://www.gctc.ru/main.php?id=98.1'\n",
        "# Создаем глобальную переменную, куда сохраняем url странички\n",
        "data = []\n",
        "\n",
        "session = requests.session()\n",
        "session.headers = {\n",
        "    'user-agent': 'Mozilla/5.0 (Windows NT 10.0; Win64; x64) AppleWebKit/537.36 (KHTML, like Gecko) Chrome/120.0.0.0 Safari/537.36 OPR/106.0.0.0 (Edition Yx 05)',\n",
        "    'accept-language': 'ru-RU,ru;q=0.9,en-US;q=0.8,en;q=0.7'\n",
        "}\n",
        "# Инициализируем сессию и вводим явные заголовки-настройки с которыми мы хотим получить данные.\n",
        "\n",
        "try:\n",
        "  res = session.get(URL)\n",
        "  res.raise_for_status()\n",
        "  html = res.text\n",
        "# с помощью метода session.get() заходим на сайт, ссылка на который сохранена в глобальной переменной.\n",
        "# raise_for_status запрос статуса. Если получаем 400 или 500, то выйдет спец исключение HTTPError.\n",
        "# в переменную html сохраняем страницу в одноименном текстовом формате.\n",
        "\n",
        "  soup = BeautifulSoup(html, 'lxml')\n",
        "# Начинаем варить суп. Создаем переменную и в параметры метода помещаем нашу страничку в html формате (текст) и парсер. Для каждого сайта свой парсер!\n",
        "\n",
        "  main_block = soup.select_one('div.ie_infoh')\n",
        "# С помощью .select() получаем блок кода, откуда будем доставать месяц и памятные года.\n",
        "\n",
        "  h2_header = main_block.select('h2')\n",
        "  for h2 in h2_header:\n",
        "    h2_clean = h2.text.split('г')[0]\n",
        "    month_clean = h2.find_previous('h1').text\n",
        "    data.append([month, h2_clean])\n",
        "# В переменную h2_header сораняем список h2 заголовков из главного блока\n",
        "# С помощью цикла проходимся по всем элементам списка h2_header и для каждого элемента списка оставляем только первый элемент (цифры года) с помощью .split()\n",
        "# В этом же цикле получаем методом .find_previous() предыдущий h1 заголовок, если таковой имеется, и сразу же выделяем text-часть.\n",
        "# Сохраняем в список полученную информацию\n",
        "\n",
        "  print(data)\n",
        "# Проверем...success!\n",
        "\n",
        "except Exception as ex:\n",
        "  print(f'ERROR:{ex}')\n",
        "\n",
        "except HTTPError as ht:\n",
        "  print(f'ERROR:{ht}')\n",
        "# Ловим исключения и выводим на экран ошибки."
      ],
      "metadata": {
        "id": "2woYkM_KUsOb",
        "colab": {
          "base_uri": "https://localhost:8080/"
        },
        "outputId": "7520c48e-b647-495b-a0d9-7ae89c2ba392"
      },
      "execution_count": null,
      "outputs": [
        {
          "output_type": "stream",
          "name": "stdout",
          "text": [
            "ERROR:ResultSet object has no attribute 'select'. You're probably treating a list of elements like a single element. Did you call find_all() when you meant to call find()?\n"
          ]
        }
      ]
    },
    {
      "cell_type": "markdown",
      "source": [
        "### **Возможный алгоритм решения задачи:**"
      ],
      "metadata": {
        "id": "jFb0VSj0Kq0f"
      }
    },
    {
      "cell_type": "markdown",
      "source": [
        "1. Устанавливаем bs4\n",
        "2. Здесь lxml неправильно декодирует html в дерево супа (это можно узнать путем проб и ошибок)\n",
        "3. Устанавливаем любой другой парсер и проверяем, что он нормально декодирует (html5lib подходит)\n",
        "\n",
        "4. С помощью requests инициализируем сессию, используя указанную ссылку, и устанавливем заголовки\n",
        "5. Получаем из проинициализированной сессии text и варим суп\n",
        "6. Получаем главный блок с помощью селектора из которого нужно достать данные\n",
        "7. Получаем все теги h2, которые содержат год\n",
        "8. Создаем результативный массив и в цикле по каждому тегу h2 будем записывать в него полученный результат\n",
        "9. В цикле обрезаем .г у года, Получаем ОДИН h1, который был до div.news h2 с помощью метода find_previous (это и есть день и месяц события)\n",
        "10. Получаем дату+месяц, где первые два символа это день, а остальные символы это название месяца\n",
        "11. Записываем все в результативный массив\n",
        "\n",
        "\n",
        "Не забываем все обернуть в try except и проверять с помощью raise_for_status"
      ],
      "metadata": {
        "id": "ar3LJKizE3E7"
      }
    },
    {
      "cell_type": "markdown",
      "source": [
        "## **Задание 2. Скрещиваем Selenium и BeautifulSoup**"
      ],
      "metadata": {
        "id": "XFUPJo-qsusT"
      }
    },
    {
      "cell_type": "markdown",
      "source": [
        "Соберите информацию с сайта nbcomputers.ru (https://www.nbcomputers.ru/catalog/noutbuki/) о ноутбуках данного интернет-магазина.\n",
        "<br>\n",
        "Данные, которые необходимы:\n",
        "* Название ноутбука\n",
        "* Цена ноутбука\n",
        "* Код товара\n",
        "\n",
        "Результат необходимо записать в CSV файл.\n",
        "<br>\n",
        "*(совет: обязательно делайте различные временные промежутки между прокликами)*"
      ],
      "metadata": {
        "id": "9O8NOJs51u8K"
      }
    },
    {
      "cell_type": "code",
      "source": [
        "%%shell\n",
        "# Ubuntu no longer distributes chromium-browser outside of snap\n",
        "#\n",
        "# Proposed solution: https://askubuntu.com/questions/1204571/how-to-install-chromium-without-snap\n",
        "# Add debian buster\n",
        "cat > /etc/apt/sources.list.d/debian.list <<'EOF'\n",
        "deb [arch=amd64 signed-by=/usr/share/keyrings/debian-buster.gpg] http://deb.debian.org/debian buster main\n",
        "deb [arch=amd64 signed-by=/usr/share/keyrings/debian-buster-updates.gpg] http://deb.debian.org/debian buster-updates main\n",
        "deb [arch=amd64 signed-by=/usr/share/keyrings/debian-security-buster.gpg] http://deb.debian.org/debian-security buster/updates main\n",
        "EOF\n",
        "# Add keys\n",
        "apt-key adv --keyserver keyserver.ubuntu.com --recv-keys DCC9EFBF77E11517\n",
        "apt-key adv --keyserver keyserver.ubuntu.com --recv-keys 648ACFD622F3D138\n",
        "apt-key adv --keyserver keyserver.ubuntu.com --recv-keys 112695A0E562B32A\n",
        "apt-key export 77E11517 | gpg --dearmour -o /usr/share/keyrings/debian-buster.gpg\n",
        "apt-key export 22F3D138 | gpg --dearmour -o /usr/share/keyrings/debian-buster-updates.gpg\n",
        "apt-key export E562B32A | gpg --dearmour -o /usr/share/keyrings/debian-security-buster.gpg\n",
        "# Prefer debian repo for chromium* packages only\n",
        "# Note the double-blank lines between entries\n",
        "cat > /etc/apt/preferences.d/chromium.pref << 'EOF'\n",
        "Package: *\n",
        "Pin: release a=eoan\n",
        "Pin-Priority: 500\n",
        "Package: *\n",
        "Pin: origin \"deb.debian.org\"\n",
        "Pin-Priority: 300\n",
        "Package: chromium*\n",
        "Pin: origin \"deb.debian.org\"\n",
        "Pin-Priority: 700\n",
        "EOF\n",
        "# Install chromium and chromium-driver\n",
        "apt-get update\n",
        "apt-get install chromium chromium-driver\n",
        "# Install selenium\n",
        "pip install selenium\n"
      ],
      "metadata": {
        "id": "X-e0wZ2NARZj",
        "colab": {
          "base_uri": "https://localhost:8080/"
        },
        "outputId": "76f121fa-279e-4e2e-ce1f-5c7a42e4c5f7"
      },
      "execution_count": null,
      "outputs": [
        {
          "output_type": "stream",
          "name": "stdout",
          "text": [
            "Warning: apt-key is deprecated. Manage keyring files in trusted.gpg.d instead (see apt-key(8)).\n",
            "Executing: /tmp/apt-key-gpghome.r2nLqXdccf/gpg.1.sh --keyserver keyserver.ubuntu.com --recv-keys DCC9EFBF77E11517\n",
            "gpg: key DCC9EFBF77E11517: \"Debian Stable Release Key (10/buster) <debian-release@lists.debian.org>\" not changed\n",
            "gpg: Total number processed: 1\n",
            "gpg:              unchanged: 1\n",
            "Warning: apt-key is deprecated. Manage keyring files in trusted.gpg.d instead (see apt-key(8)).\n",
            "Executing: /tmp/apt-key-gpghome.DrXukYDRB2/gpg.1.sh --keyserver keyserver.ubuntu.com --recv-keys 648ACFD622F3D138\n",
            "gpg: key DC30D7C23CBBABEE: \"Debian Archive Automatic Signing Key (10/buster) <ftpmaster@debian.org>\" not changed\n",
            "gpg: Total number processed: 1\n",
            "gpg:              unchanged: 1\n",
            "Warning: apt-key is deprecated. Manage keyring files in trusted.gpg.d instead (see apt-key(8)).\n",
            "Executing: /tmp/apt-key-gpghome.T0Cs5PJWOt/gpg.1.sh --keyserver keyserver.ubuntu.com --recv-keys 112695A0E562B32A\n",
            "gpg: key 4DFAB270CAA96DFA: \"Debian Security Archive Automatic Signing Key (10/buster) <ftpmaster@debian.org>\" not changed\n",
            "gpg: Total number processed: 1\n",
            "gpg:              unchanged: 1\n",
            "gpg: cannot open '/dev/tty': No such device or address\n",
            "Warning: apt-key is deprecated. Manage keyring files in trusted.gpg.d instead (see apt-key(8)).\n",
            "gpg: [stdout]: write error: Broken pipe\n",
            "gpg: filter_flush failed on close: Broken pipe\n",
            "gpg: cannot open '/dev/tty': No such device or address\n",
            "Warning: apt-key is deprecated. Manage keyring files in trusted.gpg.d instead (see apt-key(8)).\n",
            "gpg: [stdout]: write error: Broken pipe\n",
            "gpg: filter_flush failed on close: Broken pipe\n",
            "gpg: cannot open '/dev/tty': No such device or address\n",
            "Warning: apt-key is deprecated. Manage keyring files in trusted.gpg.d instead (see apt-key(8)).\n",
            "gpg: [stdout]: write error: Broken pipe\n",
            "gpg: filter_flush failed on close: Broken pipe\n",
            "Hit:1 http://deb.debian.org/debian buster InRelease\n",
            "Hit:2 http://deb.debian.org/debian buster-updates InRelease\n",
            "Hit:3 http://deb.debian.org/debian-security buster/updates InRelease\n",
            "Hit:4 http://archive.ubuntu.com/ubuntu jammy InRelease\n",
            "Get:5 https://cloud.r-project.org/bin/linux/ubuntu jammy-cran40/ InRelease [3,626 B]\n",
            "Get:6 http://archive.ubuntu.com/ubuntu jammy-updates InRelease [119 kB]\n",
            "Hit:7 https://developer.download.nvidia.com/compute/cuda/repos/ubuntu2204/x86_64  InRelease\n",
            "Get:8 http://security.ubuntu.com/ubuntu jammy-security InRelease [110 kB]\n",
            "Hit:9 http://archive.ubuntu.com/ubuntu jammy-backports InRelease\n",
            "Hit:10 https://ppa.launchpadcontent.net/c2d4u.team/c2d4u4.0+/ubuntu jammy InRelease\n",
            "Hit:11 https://ppa.launchpadcontent.net/deadsnakes/ppa/ubuntu jammy InRelease\n",
            "Hit:12 https://ppa.launchpadcontent.net/graphics-drivers/ppa/ubuntu jammy InRelease\n",
            "Hit:13 https://ppa.launchpadcontent.net/ubuntugis/ppa/ubuntu jammy InRelease\n",
            "Fetched 233 kB in 1s (158 kB/s)\n",
            "Reading package lists... Done\n",
            "Reading package lists... Done\n",
            "Building dependency tree... Done\n",
            "Reading state information... Done\n",
            "chromium is already the newest version (90.0.4430.212-1~deb10u1).\n",
            "chromium-driver is already the newest version (90.0.4430.212-1~deb10u1).\n",
            "0 upgraded, 0 newly installed, 0 to remove and 96 not upgraded.\n",
            "Requirement already satisfied: selenium in /usr/local/lib/python3.10/dist-packages (4.17.2)\n",
            "Requirement already satisfied: urllib3[socks]<3,>=1.26 in /usr/local/lib/python3.10/dist-packages (from selenium) (2.0.7)\n",
            "Requirement already satisfied: trio~=0.17 in /usr/local/lib/python3.10/dist-packages (from selenium) (0.24.0)\n",
            "Requirement already satisfied: trio-websocket~=0.9 in /usr/local/lib/python3.10/dist-packages (from selenium) (0.11.1)\n",
            "Requirement already satisfied: certifi>=2021.10.8 in /usr/local/lib/python3.10/dist-packages (from selenium) (2023.11.17)\n",
            "Requirement already satisfied: typing_extensions>=4.9.0 in /usr/local/lib/python3.10/dist-packages (from selenium) (4.9.0)\n",
            "Requirement already satisfied: attrs>=20.1.0 in /usr/local/lib/python3.10/dist-packages (from trio~=0.17->selenium) (23.2.0)\n",
            "Requirement already satisfied: sortedcontainers in /usr/local/lib/python3.10/dist-packages (from trio~=0.17->selenium) (2.4.0)\n",
            "Requirement already satisfied: idna in /usr/local/lib/python3.10/dist-packages (from trio~=0.17->selenium) (3.6)\n",
            "Requirement already satisfied: outcome in /usr/local/lib/python3.10/dist-packages (from trio~=0.17->selenium) (1.3.0.post0)\n",
            "Requirement already satisfied: sniffio>=1.3.0 in /usr/local/lib/python3.10/dist-packages (from trio~=0.17->selenium) (1.3.0)\n",
            "Requirement already satisfied: exceptiongroup in /usr/local/lib/python3.10/dist-packages (from trio~=0.17->selenium) (1.2.0)\n",
            "Requirement already satisfied: wsproto>=0.14 in /usr/local/lib/python3.10/dist-packages (from trio-websocket~=0.9->selenium) (1.2.0)\n",
            "Requirement already satisfied: pysocks!=1.5.7,<2.0,>=1.5.6 in /usr/local/lib/python3.10/dist-packages (from urllib3[socks]<3,>=1.26->selenium) (1.7.1)\n",
            "Requirement already satisfied: h11<1,>=0.9.0 in /usr/local/lib/python3.10/dist-packages (from wsproto>=0.14->trio-websocket~=0.9->selenium) (0.14.0)\n"
          ]
        },
        {
          "output_type": "execute_result",
          "data": {
            "text/plain": []
          },
          "metadata": {},
          "execution_count": 84
        }
      ]
    },
    {
      "cell_type": "code",
      "source": [
        "'''\n",
        "from selenium import webdriver\n",
        "from selenium.webdriver.chrome.service import Service\n",
        "\n",
        "service = Service(executable_path=r'/usr/bin/chromedriver')\n",
        "options = webdriver.ChromeOptions()\n",
        "options.add_argument('--headless')\n",
        "options.add_argument('--no-sandbox')\n",
        "options.add_argument('--disable-dev-shm-usage')\n",
        "driver = webdriver.Chrome(service=service, options=options)\n",
        "\n",
        "driver.quit()\n",
        "'''"
      ],
      "metadata": {
        "id": "3vSqGDDiIUqR"
      },
      "execution_count": null,
      "outputs": []
    },
    {
      "cell_type": "code",
      "source": [
        "from selenium import webdriver\n",
        "from selenium.webdriver.chrome.service import Service\n",
        "from selenium.webdriver.common.by import By\n",
        "from selenium.webdriver.common.action_chains import ActionChains\n",
        "from selenium.webdriver.support.ui import WebDriverWait\n",
        "from selenium.webdriver.support import expected_conditions as EC\n",
        "\n",
        "\n",
        "chromedriver_path = '/usr/bin/chromedriver'\n",
        "# Указываем путь к хромдрайверу\n",
        "\n",
        "\n",
        "options = webdriver.ChromeOptions()\n",
        "options.add_argument('--headless')\n",
        "options.add_argument('--no-sandbox')\n",
        "options.add_argument('--disable-dev-shm-usage')\n",
        "# Устанавливаем опции Хрома\n",
        "\n",
        "driver = webdriver.Chrome(service=Service(executable_path=chromedriver_path), options=options)\n",
        "# Запускаем драйвер\n",
        "\n",
        "try:\n",
        "  driver.get('https://www.nbcomputers.ru/catalog/noutbuki/')\n",
        "  driver.implicitly_wait(10)\n",
        "# С помощью метода .get() переходим по нужному URL и задаем ожидаение 10 секунд для последующего выхода с ресурса.\n",
        "\n",
        "  actions = ActionChains(driver)\n",
        "  actions.move_to_element(driver.find_element(By.CSS_SELECTOR, 'button.sc-47746e2f-0.dIXPjU'))\n",
        "  actions.perform()\n",
        "  wait = WebDriverWait(driver, timeout=10)\n",
        "# Запускаем цепочку действий selenium'a и находим нужный элемент.\n",
        "\n",
        "  while True:\n",
        "    wait.until(EC.element_to_be_clickable((By.CSS_SELECTOR, 'button.sc-47746e2f-0.dIXPjU'))).click()\n",
        "# Пока элементы подгружаются, кликаем на элемент.\n",
        "\n",
        "except Exception as Ex:\n",
        "  print(f'Error:{Ex}')\n",
        "# Вывод ошибок и исключений в удобочитаемом формате.\n",
        "\n",
        "html = driver.page_source\n",
        "driver.quit()\n",
        "# Оканчиваем сессию\n"
      ],
      "metadata": {
        "id": "62q-3gLkLHSx",
        "colab": {
          "base_uri": "https://localhost:8080/"
        },
        "outputId": "48a0bafa-7e16-4c33-f283-28a049437335"
      },
      "execution_count": null,
      "outputs": [
        {
          "output_type": "stream",
          "name": "stdout",
          "text": [
            "Error:Message: element click intercepted: Element <button aria-label=\"Показать ещё больше товаров\" class=\"sc-47746e2f-0 dIXPjU\">...</button> is not clickable at point (399, 20). Other element would receive the click: <svg class=\"sc-5d1faee2-0 hXgbew icon\" width=\"95\" height=\"86\" alt=\"Логотип сайта\">...</svg>\n",
            "  (Session info: headless chrome=90.0.4430.212)\n",
            "Stacktrace:\n",
            "#0 0x557d848337f9 <unknown>\n",
            "#1 0x557d847d33b3 <unknown>\n",
            "#2 0x557d8451b016 <unknown>\n",
            "#3 0x557d8455517c <unknown>\n",
            "#4 0x557d84553654 <unknown>\n",
            "#5 0x557d8455176c <unknown>\n",
            "#6 0x557d84550a20 <unknown>\n",
            "#7 0x557d84546fb9 <unknown>\n",
            "#8 0x557d84572dc2 <unknown>\n",
            "#9 0x557d84546d7b <unknown>\n",
            "#10 0x557d84572fce <unknown>\n",
            "#11 0x557d845839e1 <unknown>\n",
            "#12 0x557d84572c93 <unknown>\n",
            "#13 0x557d84544ce4 <unknown>\n",
            "#14 0x557d845464d2 <unknown>\n",
            "#15 0x557d847ff542 <unknown>\n",
            "#16 0x557d8480ece7 <unknown>\n",
            "#17 0x557d8480e9e4 <unknown>\n",
            "#18 0x557d8481313a <unknown>\n",
            "#19 0x557d8480f5b9 <unknown>\n",
            "#20 0x557d847f4e00 <unknown>\n",
            "#21 0x557d848265d2 <unknown>\n",
            "#22 0x557d84826778 <unknown>\n",
            "#23 0x557d8483ea1f <unknown>\n",
            "#24 0x7e7e5023fac3 <unknown>\n",
            "#25 0x7e7e502d1850 <unknown>\n",
            "\n"
          ]
        }
      ]
    },
    {
      "cell_type": "code",
      "source": [
        "from bs4 import BeautifulSoup\n",
        "import csv\n",
        "\n",
        "result = []\n",
        "# Создаем пустой список, куда будем заносить полученные данные.\n",
        "soup = BeautifulSoup(html, 'lxml')\n",
        "# Варим суп\n",
        "\n",
        "cards_list = soup.select_one('section.sc-3dc06944-0.bQBJrx')\n",
        "card = cards_list.select('div.sc-3dc06944-2.hspFnR')\n",
        "# Из прогнанного через парсер html-файла достаем нужные тэги: список всех ноутов и каждую карточку товара отдельно.\n",
        "\n",
        "for name in card:\n",
        "  codes = name.select_one('p.sc-d9406361-0.fZegtv')\n",
        "  names = name.select_one('p.sc-d9406361-0.kztjQb')\n",
        "  prices = name.select_one('span.sc-96470d6e-2')\n",
        "# С помощью for-цикла достаем из карточки с инфой о ноутбуке код товара, наименование товара, цену товара.\n",
        "\n",
        "  clean_prod_codes = code.text.split('Код: ')[1]\n",
        "  clean_prod_names = names.text\n",
        "  clean_prod_prices = ''.join(prices.text.split()[0:2])\n",
        "# Чистим полученные данные: у кода оставляем только числовую часть, у наименования буквенное полное наименование, у цены убираем \"₽\"\n",
        "\n",
        "  result.append({\n",
        "      'Product code': clean_prod_codes,\n",
        "      'Product title': clean_prod_names,\n",
        "      'Product price': clean_prod_prices\n",
        "    })\n",
        "# Данные упаковываем в список.\n",
        "\n",
        "with open('Task4_laptopsList.csv', 'w') as f:\n",
        "  writer = csv.DictWriter(f, result[0].keys())\n",
        "  writer.writeheader()\n",
        "  for  r in result:\n",
        "    writer.writerow(r)\n",
        "# Список извлекаем в формате .csv\n"
      ],
      "metadata": {
        "id": "yNW26_lOQd6N"
      },
      "execution_count": null,
      "outputs": []
    },
    {
      "cell_type": "code",
      "source": [
        "\n"
      ],
      "metadata": {
        "colab": {
          "base_uri": "https://localhost:8080/"
        },
        "id": "1YCEkKzUzOcL",
        "outputId": "4ab39c4a-e127-49c3-937b-e0f789051383"
      },
      "execution_count": null,
      "outputs": [
        {
          "output_type": "stream",
          "name": "stdout",
          "text": [
            "Ноутбук Asus VivoBook Pro 14 OLED M3401QA-KM016W 14″/8/SSD 512/синий\n",
            "Ноутбук Asus VivoBook 15 K513EA-L11139T 15.6″/8/SSD 512/серебристый\n",
            "Ноутбук Lenovo IdeaPad 3 14ALC6 14″/12/SSD 512/синий\n",
            "Ноутбук HP Pavilion 15-eg0134ur 15.6″/16/SSD 512/серебристый\n",
            "Ноутбук MSI Katana GF66 11UC-1225RU 15.6″/8/SSD 512/черный\n",
            "Ноутбук MSI Raider GE66 12UGS-289RU 15.6″/16/SSD 1024/синий\n",
            "Ультрабук Huawei MateBook D 16 RLEF-W5651D 16.1″/16/SSD 512/серый\n",
            "Ноутбук MSI Summit E16 Flip A13VET-097RU 16″/16/SSD 1024/черный\n",
            "Ноутбук MSI Pulse 17 B13VGK-441RU 17.3″/16/SSD 1024/серый\n",
            "Ноутбук HONOR MagicBook X16 16″/16/SSD 512/серый\n",
            "2022 Apple MacBook Air 13.6″ сияющая звезда (Apple M2, 8Gb, SSD 256Gb, M2 (8 GPU))\n",
            "Ноутбук MSI Creator Z16 Hiroshi Fujiwara 16″/16/SSD 512/черный\n",
            "Ноутбук Asus Vivobook 15X OLED X1503ZA-L1274 15.6″/8/SSD 512/синий\n",
            "Ноутбук Asus ROG Strix G15 G513RW-HQ198 15.6″/16/SSD 512/серый\n",
            "Ультрабук Asus Zenbook 14 OLED UX3402ZA-KM103W 14″/16/SSD 512/зеленый\n",
            "2022 Apple MacBook Air 13.6″ серый космос (Apple M2, 8Gb, SSD 256Gb, M2 (8 GPU))\n",
            "Ноутбук HP 15s-fq5046ci 15.6″/16/SSD 512/серебристый\n",
            "Ноутбук Asus VivoBook S15 OLED K3502ZA-MA023W 15.6″/8/SSD 512/зеленый\n",
            "Ультрабук Asus ExpertBook B1 B1500CEAE-EJ0545R 15.6″/8/SSD 512/черный\n",
            "2022 Apple MacBook Air 13.6″ темная ночь (Apple M2, 8Gb, SSD 512Gb, M2 (10 GPU))\n",
            "Ультрабук Asus ZenBook 14 UM425QA-KI164W 14″/8/SSD 512/серый\n",
            "Ноутбук Tecno Megabook T1 i3 15.6″/12/SSD 256/серый космос\n",
            "Ноутбук HP 15s-eq3053ci 15.6″/16/SSD 1024/серебристый\n",
            "2020 Apple MacBook Air 13.3″ серый космос (Apple M1, 8Gb, SSD 256Gb, M1 (7 GPU))\n",
            "2023 Apple MacBook Air 15.3″ сияющая звезда (Apple M2, 8Gb, SSD 512Gb, M2 (10 GPU))\n",
            "2023 Apple MacBook Air 15.3″ серебристый (Apple M2, 8Gb, SSD 512Gb, M2 (10 GPU))\n",
            "2023 Apple MacBook Air 15.3″ темная ночь (Apple M2, 8Gb, SSD 512Gb, M2 (10 GPU))\n",
            "2023 Apple MacBook Air 15.3″ серый космос (Apple M2, 8Gb, SSD 512Gb, M2 (10 GPU))\n",
            "2023 Apple MacBook Air 15.3″ темная ночь (Apple M2, 8Gb, SSD 256Gb, M2 (10 GPU))\n",
            "2023 Apple MacBook Air 15.3″ сияющая звезда (Apple M2, 8Gb, SSD 256Gb, M2 (10 GPU))\n",
            "2023 Apple MacBook Air 15.3″ серебристый (Apple M2, 8Gb, SSD 256Gb, M2 (10 GPU))\n",
            "2023 Apple MacBook Air 15.3″ серый космос (Apple M2, 8Gb, SSD 256Gb, M2 (10 GPU))\n",
            "Ультрабук Huawei MateBook X Pro MRGF-X 14.2″/16/SSD 1024/серый космос\n",
            "Ультрабук Huawei MateBook 14S HKF-X 14.2″/16/темно-серый\n",
            "Ультрабук Huawei MateBook 16S 16″/16/SSD 1024/серый\n",
            "Ноутбук HONOR MagicBook X16 16″/8/SSD 512/серый\n",
            "Ноутбук Samsung Galaxy Book3 Ultra 16″/16/SSD 1024/графитовый\n",
            "Ноутбук HP 15-dw4028nia 15.6″/8/SSD 512/черный\n",
            "Ноутбук HP 15-dw4026nia 15.6″/8/SSD 512/серебристый\n",
            "Ноутбук Lenovo V15 G2 ALC 15.6″/16/SSD 512/черный\n",
            "Ноутбук Asus ROG Strix SCAR 16 G634JZ-N4011 16″/32/SSD 1024/черный\n",
            "2023 Apple MacBook Pro 14.2″ серый космос (Apple M2 Pro, 16Gb, SSD 1024Gb, M2 Pro (19 GPU))\n",
            "2023 Apple MacBook Pro 14.2″ серый космос (Apple M2 Pro, 16Gb, SSD 512Gb, M2 Pro (16 GPU))\n",
            "2022 Apple MacBook Air 13.6″ серый космос (Apple M2, 16Gb, SSD 256Gb, M2 (8 GPU))\n",
            "Ноутбук HP 17-cn1002ny 17.3″/8/SSD 512/черный\n",
            "Ноутбук HP Envy 17t-ch100 17.3″/16/SSD 512/серебристый\n",
            "Ноутбук HP 15s-fq5000ci 15.6″/16/SSD 512/серый\n",
            "Ноутбук HP Pavilion Aero 13-be1025ci 13.3″/16/SSD 512/серебристый\n",
            "Ультрабук Asus ExpertBook B1 B1500CEAE-BQ2003R 15.6″/8/SSD 512/черный\n",
            "Ноутбук Machenike T58-VA 15.6″/8/SSD 512/серебристый\n",
            "Ноутбук MSI CreatorPro M15 A11UIS-1083RU 15.6″/16/SSD 1024/черный\n",
            "Ноутбук MSI Creator Z16P B12UHST-028RU 16″/32/SSD 2048/серый\n",
            "Ноутбук MSI CreatorPro Z16P B12UKST-222RU 16″/32/SSD 1024/серый\n",
            "Ноутбук Lenovo Legion 5i 15IMH6 15.6″/8/SSD 512/черный\n",
            "2022 Apple MacBook Pro 13.3″ серебристый (Apple M2, 8Gb, SSD 256Gb, M2 (10 GPU))\n",
            "2020 Apple MacBook Air 13.3″ серебристый (Apple M1, 8Gb, SSD 256Gb, M1 (7 GPU))\n",
            "2022 Apple MacBook Air 13.6″ серебристый (Apple M2, 8Gb, SSD 256Gb, M2 (8 GPU))\n",
            "Ноутбук Dream Machines RS3070-15KZ26 15.6″/16/SSD 1024/черный\n",
            "Ноутбук HP Pavilion 14-dv0090ur 14″/8/SSD 512/белый\n",
            "Ноутбук Lenovo IdeaPad Gaming 3 15ACH6 15.6″/8/SSD 512/черный\n"
          ]
        }
      ]
    },
    {
      "cell_type": "markdown",
      "source": [
        "### **Возможный алгоритм решения задачи в Colab (простой):**"
      ],
      "metadata": {
        "id": "HthD6TnHNTWi"
      }
    },
    {
      "cell_type": "markdown",
      "source": [
        "1. Установливаем параметры для headless браузера\n",
        "2. Инициализацируем сессию браузера\n",
        "3. Переходим по данной ссылке\n",
        "4. Устанавливаем неявное ожидание\n",
        "5. Инициализируем явное ожидание для нажатия на кнопку \"Больше\"\n",
        "6. С помощью бесконечного цикла жмем на кнопку методом click, пока она кликабельна  (ну и не забываем про селектор)\n",
        "4. Оборачиваем все в trt except.Когда вылетит с ошибкой того, что кнопка не кликабельна => прогрузили все карточки\n",
        "\n",
        "5. С помощью BS находим блок карточек\n",
        "6. Поочереднно собираем необходимые данные с карточки\n",
        "7. Записываем все в файл с форматом csv, используя CSV библиотеку\n",
        "\n"
      ],
      "metadata": {
        "id": "TfOWoc4glonj"
      }
    },
    {
      "cell_type": "markdown",
      "source": [
        "## **Задание 3. Фреймворк Scrapy**"
      ],
      "metadata": {
        "id": "v9qibBZp51CE"
      }
    },
    {
      "cell_type": "markdown",
      "source": [
        "Соберите информацию о заквасках с сайта pro-syr.ru (https://pro-syr.ru/zakvaski-dlya-syra/mezofilnye/)\n",
        "\n",
        "Необходимо собрать следующие данные:\n",
        "* Название продукта\n",
        "* Цена\n",
        "* Есть ли продукт в наличии\n",
        "\n",
        "Результат должен быть записан в CSV файл"
      ],
      "metadata": {
        "id": "A6UOPxtk563f"
      }
    },
    {
      "cell_type": "code",
      "source": [
        "import scrapy\n",
        "import time\n",
        "#  импортируем нужные библиотеки\n",
        "\n",
        "class ZakvaskaSpider(scrapy.Spider):\n",
        "    name = \"ZakvaskaSpider\"\n",
        "    start_urls = [\"https://pro-syr.ru/zakvaski-dlya-syra/mezofilnye/\"]\n",
        "# Создаем класс, который наследуется от класса Spider. И вводим стартовую ссылку, откуда будем собирать данные.\n",
        "\n",
        "    def parse(self, response):\n",
        "        links = response.css(\"div.nameproduct a::attr(href)\")\n",
        "        for link in links:\n",
        "            time.sleep(3)\n",
        "            yield response.follow(link, self.parse_zakv)\n",
        "# Пишем функцию, которая определяет действия паука: в переменную link помещаем ссылку на карточку, после перехода на которую будет выполняться след. функция.\n",
        "# В цикле опеределяем таймер задержки действия.\n",
        "\n",
        "        link = response.css(\"ul.pagination a::attr(href)\")[-2].get()\n",
        "        yield response.follow(link, self.parse)\n",
        "# Работа с пагинацией.\n",
        "\n",
        "    def parse_zakv(self, response):\n",
        "        yield {\n",
        "            \"Product name\": response.css(\"div.col-md-9.col-sm-12 h1::text\").get(),\n",
        "            \"Product price\": response.css(\"span.autocalc-product-price::text\").get().split('руб')[0],\n",
        "            \"Product available\": response.css(\"div.product-description b::text\").get()\n",
        "\n",
        "        }\n",
        "# Вторая функция, которая собирает нужные данные в словарь.\n",
        "# Программу писал в IDE PyCharm, а также использовал scrapy shell."
      ],
      "metadata": {
        "id": "g0BDopza588j"
      },
      "execution_count": null,
      "outputs": []
    },
    {
      "cell_type": "markdown",
      "source": [
        "### **Возможный алгоритм решения задачи:**"
      ],
      "metadata": {
        "id": "0--hXld-M-C_"
      }
    },
    {
      "cell_type": "markdown",
      "source": [
        "1. Инициализируем проект SCRAPY\n",
        "2. В папке spiders создаем своего паука\n",
        "3. Создаем класс с пауком и наследуемся от scrapy.Spider\n",
        "4. Называем паука так же, как и класс\n",
        "5. Указываем стартовую ссылку\n",
        "6. Создаем функцию парсинга карточки, где описываем получение данных из карточки в словарь (название, цена и запас). Возвращаем обратно словарь через yield.\n",
        "7. Создаем функцию parse - основую логику перехода по ссылкам\n",
        "8. Получаем ссылки на каждую карточек текущей страницы\n",
        "9. Циклом проходимся по каждой и собираем данные через ранне коллбек функцию\n",
        "10. Дальше в функции parse расписываем переход на следующую страницу. Для этого находим в пагинации ссылку на следующую страницу  и переходим на нее до тех пор, пока она не закончится.\n",
        "11. В командной строке переходим в папку с проектом scrapy (%cd <название проекта>/)\n",
        "12. В командной строке пишем команду !scrapy runspider <название паука или путь до него из папки с проектом> -o <Название файла с форматом csv, куда будет записан результат парсинга>\n",
        "\n",
        "\n",
        "Не забывайте пользоваться scrapy shell!"
      ],
      "metadata": {
        "id": "s2id-iqTmngO"
      }
    },
    {
      "cell_type": "markdown",
      "source": [
        "# **Часть III. Дополнительная тренировка (по желанию)**"
      ],
      "metadata": {
        "id": "U1T8bLOdMBti"
      }
    },
    {
      "cell_type": "markdown",
      "source": [
        "## **Задание 1. Библиотека BeautifulSoup**"
      ],
      "metadata": {
        "id": "ZRtjdNbUMKrb"
      }
    },
    {
      "cell_type": "markdown",
      "source": [
        "Собрать информацию о товарах данного интернет-магазина мягких игрушек tomsk.richfamily.ru (https://tomsk.richfamily.ru/catalog/igrushki/myagkie/)\n",
        "\n",
        "Вам необходимо получить следующие данные о каждой мягкой игрушке:\n",
        "* Название\n",
        "* Цена\n",
        "* Размер (сантиметры)\n",
        "\n",
        "Необходимо собрать данные со всех страниц!!\n",
        "Результаты должны быть записаны в CSV файл"
      ],
      "metadata": {
        "id": "DopyHWo3rT14"
      }
    },
    {
      "cell_type": "code",
      "source": [],
      "metadata": {
        "id": "-SZH0QGTLW7s"
      },
      "execution_count": null,
      "outputs": []
    },
    {
      "cell_type": "markdown",
      "source": [
        "### **Возможный алгоритм решения задачи:**"
      ],
      "metadata": {
        "id": "nWIkHhw9LZKo"
      }
    },
    {
      "cell_type": "markdown",
      "source": [
        "1. Устанавливаем bs4\n",
        "2. Изучаем работу пагинации и видим, что при переходе на страницы в URL изменяается параметр PAGEN_1\n",
        "3. Изменяем ссылку, добавив в нее параметр PAGEN_1, который будет подставляться форматной вставкой\n",
        "\n",
        "4. С помощью requests инициализируем сессию, используя измененную ссылку, с подсталвенным туда первым номером страницы, и устанавливем заголовки\n",
        "5. Получаем из проинициализированной сессии text и варим суп\n",
        "6. Создаем резульативный массив, в который будем все записывать\n",
        "7. Получаем все карточки с помощью селектора\n",
        "8. Находим и записываем дату\n",
        "9. Находим и записываем название\n",
        "10. Находим и записываем место\n",
        "11. Записываем полученное в результативный массив\n",
        "\n",
        "12. Получаем инфу о последнем номере страницы из пагинации\n",
        "\n",
        "13. Далее циклом по всем страницам повторяем полученное и дополняем результативный массив\n",
        "\n",
        "14. С помощью библиотеки CSV записываем полученное в файл с форматом csv\n",
        "\n",
        "\n",
        "\n",
        "Не забываем все обернуть в try except и проверять с помощью raise_for_status"
      ],
      "metadata": {
        "id": "DwLdwwpXHYCf"
      }
    },
    {
      "cell_type": "markdown",
      "source": [
        "## **Задание 2. Библиотека BeautifulSoup**"
      ],
      "metadata": {
        "id": "ulRZmStrN_vo"
      }
    },
    {
      "cell_type": "markdown",
      "source": [
        "Соберите информацию о  происходивших выставках кошек с сайта RU-pets.ru <br>(http://ru-pets.ru/index.php?m=6&c=2&to=1).\n",
        "\n",
        "Данные, которые необходимы:\n",
        "* Дата проведения\n",
        "* Название выставки\n",
        "* Клуб-Организатор\n",
        "<br>\n",
        "\n",
        "Результат необходимо записать в CSV файл"
      ],
      "metadata": {
        "id": "p1QdX9f8rrbv"
      }
    },
    {
      "cell_type": "code",
      "source": [],
      "metadata": {
        "id": "bSQWqE2QMUro"
      },
      "execution_count": null,
      "outputs": []
    },
    {
      "cell_type": "markdown",
      "source": [
        "## **Задание 3. Скрещиваем Selenium и BeautifulSoup**"
      ],
      "metadata": {
        "id": "bygMUNfWMxmw"
      }
    },
    {
      "cell_type": "markdown",
      "source": [
        "Написать код, который выполнит ввод слова \"Lenovo\" в поисковую строку сайта  1000kem.ru (https://1000kem.ru/contacts/) и выполнить поиск\n",
        "<br>\n",
        "<br>\n",
        "![image.png](data:image/png;base64,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)\n",
        "\n",
        "\n",
        "*(подсказка: изучите внимательно документацию и методы wait.until, click или send_keys)*"
      ],
      "metadata": {
        "id": "QQ7Oe9n3Nplo"
      }
    },
    {
      "cell_type": "code",
      "source": [],
      "metadata": {
        "id": "2Q096GGYPJ9A"
      },
      "execution_count": null,
      "outputs": []
    },
    {
      "cell_type": "markdown",
      "source": [
        "### **Возможный алгоритм решения задачи в Colab (простой):**"
      ],
      "metadata": {
        "id": "0JjZJEBiOUYA"
      }
    },
    {
      "cell_type": "markdown",
      "source": [
        "1. Установливаем параметры для headless браузера\n",
        "2. Инициализацируем сессию браузера\n",
        "3. Переходим по данной ссылке\n",
        "4. Находим элемент по селектору\n",
        "5. С помощью метода send_keys и \\n в конце строки (\\n имитирует нажатие кнопки Enter) выполняем поиск\n",
        "\n",
        "Более сложный  и верный с использованием ожиданий"
      ],
      "metadata": {
        "id": "hycIi1qdNwDA"
      }
    },
    {
      "cell_type": "markdown",
      "source": [
        "## **Задание 4. Скрещиваем Selenium и BeautifulSoup**"
      ],
      "metadata": {
        "id": "q73B74IROahA"
      }
    },
    {
      "cell_type": "markdown",
      "source": [
        "Написать код, который выполнит ввод слова \"Lenovo\" в поисковую строку сайта  nbcomputers.ru (https://www.nbcomputers.ru/) и нажмет кнопку \"Найти\"\n",
        "<br>\n",
        "<br>\n",
        "![image.png](data:image/png;base64,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)\n",
        "\n",
        "*(подсказка: изучите внимательно документацию и методы wait.until, click или send_keys)*"
      ],
      "metadata": {
        "id": "aG2GzEtRNnMQ"
      }
    },
    {
      "cell_type": "code",
      "source": [],
      "metadata": {
        "id": "JQ6zuUewPHiu"
      },
      "execution_count": null,
      "outputs": []
    },
    {
      "cell_type": "markdown",
      "source": [
        "## **Задание 5. Скрещиваем Selenium и BeautifulSoup**"
      ],
      "metadata": {
        "id": "OdcehEebOehQ"
      }
    },
    {
      "cell_type": "markdown",
      "source": [
        "Соберите информацию с сайта nbcomputers.ru (https://1000kem.ru/catalog/vse_dlya_doma_1/) о домашней утвари данного интернет-магазина.\n",
        "<br>\n",
        "Данные, которые необходимы:\n",
        "* Название товара\n",
        "* Цена\n",
        "\n",
        "Так же данные должны быть отсортированы по уменьшению цены.\n",
        "<br>\n",
        "Результат необходимо записать в CSV файл.\n",
        "<br>\n",
        "*(совет: посмотрите в документации метод execute_script - с помощью него и языка JS можно выполнить клик по кнопке)*"
      ],
      "metadata": {
        "id": "GsiDrB3fNi9Y"
      }
    },
    {
      "cell_type": "code",
      "source": [],
      "metadata": {
        "id": "DI81cqYoPGau"
      },
      "execution_count": null,
      "outputs": []
    },
    {
      "cell_type": "markdown",
      "source": [
        "## **Задание 6. Фреймворк Scrapy**"
      ],
      "metadata": {
        "id": "xwsewFyCM0EI"
      }
    },
    {
      "cell_type": "markdown",
      "source": [
        "Соберите информацию о подарочных наборах сайта siberia.eco (https://siberia.eco/gotovye-podarki/)\n",
        "\n",
        "Необходимо собрать следующие данные:\n",
        "* Название набора\n",
        "* Цена\n",
        "* Состав набора\n",
        "\n",
        "Результат должен быть записан в CSV файл"
      ],
      "metadata": {
        "id": "mjahIHOhM3yf"
      }
    },
    {
      "cell_type": "code",
      "source": [],
      "metadata": {
        "id": "gE4hQ4orM4dl"
      },
      "execution_count": null,
      "outputs": []
    }
  ]
}